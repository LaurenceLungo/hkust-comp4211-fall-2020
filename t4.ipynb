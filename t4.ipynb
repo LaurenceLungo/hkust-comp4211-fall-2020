{
 "cells": [
  {
   "cell_type": "markdown",
   "metadata": {},
   "source": [
    "# COMP4221-T4"
   ]
  },
  {
   "cell_type": "markdown",
   "metadata": {},
   "source": [
    "## Numpy"
   ]
  },
  {
   "cell_type": "markdown",
   "metadata": {},
   "source": [
    "Numpy is the core library for scientific computing in Python. It provides a high-performance multidimensional array object, and tools for working with these arrays. If you are already familiar with MATLAB, you might find this [tutorial](http://wiki.scipy.org/NumPy_for_Matlab_Users) useful to get started with Numpy."
   ]
  },
  {
   "cell_type": "markdown",
   "metadata": {},
   "source": [
    "To use Numpy, we first need to import the `numpy` package:"
   ]
  },
  {
   "cell_type": "code",
   "execution_count": 1,
   "metadata": {},
   "outputs": [],
   "source": [
    "import numpy as np"
   ]
  },
  {
   "cell_type": "markdown",
   "metadata": {},
   "source": [
    "### Arrays"
   ]
  },
  {
   "cell_type": "markdown",
   "metadata": {},
   "source": [
    "A numpy array is a grid of values, all of the same type, and is indexed by a tuple of nonnegative integers. The number of dimensions is the rank of the array; the shape of an array is a tuple of integers giving the size of the array along each dimension."
   ]
  },
  {
   "cell_type": "markdown",
   "metadata": {},
   "source": [
    "We can initialize numpy arrays from nested Python lists, and access elements using square brackets:"
   ]
  },
  {
   "cell_type": "code",
   "execution_count": 2,
   "metadata": {},
   "outputs": [
    {
     "name": "stdout",
     "output_type": "stream",
     "text": [
      "<class 'numpy.ndarray'> (3,) 1 2 3\n",
      "[5 2 3]\n"
     ]
    }
   ],
   "source": [
    "a = np.array([1, 2, 3])  # Create a rank 1 array\n",
    "print(type(a), a.shape, a[0], a[1], a[2])\n",
    "a[0] = 5                 # Change an element of the array\n",
    "print(a)"
   ]
  },
  {
   "cell_type": "code",
   "execution_count": 3,
   "metadata": {},
   "outputs": [
    {
     "name": "stdout",
     "output_type": "stream",
     "text": [
      "[[1 2 3]\n",
      " [4 5 6]]\n"
     ]
    }
   ],
   "source": [
    "b = np.array([[1,2,3],[4,5,6]])   # Create a rank 2 array\n",
    "print(b)"
   ]
  },
  {
   "cell_type": "code",
   "execution_count": 4,
   "metadata": {},
   "outputs": [
    {
     "name": "stdout",
     "output_type": "stream",
     "text": [
      "(2, 3)\n",
      "1 2 4\n"
     ]
    }
   ],
   "source": [
    "print(b.shape)\n",
    "print(b[0, 0], b[0, 1], b[1, 0])"
   ]
  },
  {
   "cell_type": "markdown",
   "metadata": {},
   "source": [
    "Numpy also provides many functions to create arrays:"
   ]
  },
  {
   "cell_type": "code",
   "execution_count": 5,
   "metadata": {},
   "outputs": [
    {
     "name": "stdout",
     "output_type": "stream",
     "text": [
      "[[0. 0.]\n",
      " [0. 0.]]\n"
     ]
    }
   ],
   "source": [
    "a = np.zeros((2,2))  # Create an array of all zeros\n",
    "print(a)"
   ]
  },
  {
   "cell_type": "code",
   "execution_count": 6,
   "metadata": {},
   "outputs": [
    {
     "name": "stdout",
     "output_type": "stream",
     "text": [
      "[[1. 1.]]\n"
     ]
    }
   ],
   "source": [
    "b = np.ones((1,2))   # Create an array of all ones\n",
    "print(b)"
   ]
  },
  {
   "cell_type": "code",
   "execution_count": 7,
   "metadata": {},
   "outputs": [
    {
     "name": "stdout",
     "output_type": "stream",
     "text": [
      "[[7 7]\n",
      " [7 7]]\n"
     ]
    }
   ],
   "source": [
    "c = np.full((2,2), 7) # Create a constant array\n",
    "print(c)"
   ]
  },
  {
   "cell_type": "code",
   "execution_count": 8,
   "metadata": {},
   "outputs": [
    {
     "name": "stdout",
     "output_type": "stream",
     "text": [
      "[[1. 0.]\n",
      " [0. 1.]]\n"
     ]
    }
   ],
   "source": [
    "d = np.eye(2)        # Create a 2x2 identity matrix\n",
    "print(d)"
   ]
  },
  {
   "cell_type": "code",
   "execution_count": 9,
   "metadata": {},
   "outputs": [
    {
     "name": "stdout",
     "output_type": "stream",
     "text": [
      "[[0.826121   0.05767395]\n",
      " [0.56082416 0.0514801 ]]\n"
     ]
    }
   ],
   "source": [
    "e = np.random.random((2,2)) # Create an array filled with random values\n",
    "print(e)"
   ]
  },
  {
   "cell_type": "markdown",
   "metadata": {},
   "source": [
    "### Array indexing"
   ]
  },
  {
   "cell_type": "markdown",
   "metadata": {},
   "source": [
    "Numpy offers several ways to index into arrays."
   ]
  },
  {
   "cell_type": "markdown",
   "metadata": {},
   "source": [
    "#### Slicing\n",
    "Similar to Python lists, numpy arrays can be sliced. Since arrays may be multidimensional, you must specify a slice for each dimension of the array:"
   ]
  },
  {
   "cell_type": "code",
   "execution_count": 10,
   "metadata": {},
   "outputs": [
    {
     "name": "stdout",
     "output_type": "stream",
     "text": [
      "[[2 3]\n",
      " [6 7]]\n"
     ]
    }
   ],
   "source": [
    "import numpy as np\n",
    "\n",
    "# Create the following rank 2 array with shape (3, 4)\n",
    "# [[ 1  2  3  4]\n",
    "#  [ 5  6  7  8]\n",
    "#  [ 9 10 11 12]]\n",
    "a = np.array([[1,2,3,4], [5,6,7,8], [9,10,11,12]])\n",
    "\n",
    "# Use slicing to pull out the subarray consisting of the first 2 rows\n",
    "# and columns 1 and 2; b is the following array of shape (2, 2):\n",
    "# [[2 3]\n",
    "#  [6 7]]\n",
    "b = a[:2, 1:3]\n",
    "print(b)"
   ]
  },
  {
   "cell_type": "code",
   "execution_count": 11,
   "metadata": {},
   "outputs": [
    {
     "name": "stdout",
     "output_type": "stream",
     "text": [
      "2\n",
      "77\n"
     ]
    }
   ],
   "source": [
    "print(a[0, 1])  \n",
    "b[0, 0] = 77    # b[0, 0] is the same piece of data as a[0, 1]\n",
    "print(a[0, 1])"
   ]
  },
  {
   "cell_type": "markdown",
   "metadata": {},
   "source": [
    "You can also mix integer indexing with slice indexing. However, doing so will yield an array of lower rank than the original array. Note that this is quite different from the way that MATLAB handles array slicing:"
   ]
  },
  {
   "cell_type": "code",
   "execution_count": 12,
   "metadata": {},
   "outputs": [
    {
     "name": "stdout",
     "output_type": "stream",
     "text": [
      "[[ 1  2  3  4]\n",
      " [ 5  6  7  8]\n",
      " [ 9 10 11 12]]\n"
     ]
    }
   ],
   "source": [
    "# Create the following rank 2 array with shape (3, 4)\n",
    "a = np.array([[1,2,3,4], [5,6,7,8], [9,10,11,12]])\n",
    "print(a)"
   ]
  },
  {
   "cell_type": "markdown",
   "metadata": {},
   "source": [
    "Two ways of accessing the data in the middle row of the array. Mixing integer indexing with slices yields an array of lower rank, while using only slices yields an array of the same rank as the original array:"
   ]
  },
  {
   "cell_type": "code",
   "execution_count": 13,
   "metadata": {},
   "outputs": [
    {
     "name": "stdout",
     "output_type": "stream",
     "text": [
      "[5 6 7 8] (4,)\n",
      "[[5 6 7 8]] (1, 4)\n",
      "[[5 6 7 8]] (1, 4)\n"
     ]
    }
   ],
   "source": [
    "row_r1 = a[1, :]    # Rank 1 view of the second row of a  \n",
    "row_r2 = a[1:2, :]  # Rank 2 view of the second row of a\n",
    "row_r3 = a[[1], :]  # Rank 2 view of the second row of a\n",
    "print(row_r1, row_r1.shape)\n",
    "print(row_r2, row_r2.shape)\n",
    "print(row_r3, row_r3.shape)"
   ]
  },
  {
   "cell_type": "code",
   "execution_count": 14,
   "metadata": {},
   "outputs": [
    {
     "name": "stdout",
     "output_type": "stream",
     "text": [
      "[ 2  6 10] (3,)\n",
      "=============\n",
      "[[ 2]\n",
      " [ 6]\n",
      " [10]] (3, 1)\n"
     ]
    }
   ],
   "source": [
    "# We can make the same distinction when accessing columns of an array:\n",
    "col_r1 = a[:, 1]\n",
    "col_r2 = a[:, 1:2]\n",
    "print(col_r1, col_r1.shape)\n",
    "print('=============')\n",
    "print(col_r2, col_r2.shape)"
   ]
  },
  {
   "cell_type": "markdown",
   "metadata": {},
   "source": [
    "#### Integer array indexing\n",
    "When you index into numpy arrays using slicing, the resulting array view will always be a subarray of the original array. In contrast, integer array indexing allows you to construct arbitrary arrays using the data from another array. Here is an example:"
   ]
  },
  {
   "cell_type": "code",
   "execution_count": 15,
   "metadata": {},
   "outputs": [
    {
     "name": "stdout",
     "output_type": "stream",
     "text": [
      "[1 4 5]\n",
      "[1 4 5]\n"
     ]
    }
   ],
   "source": [
    "a = np.array([[1,2], [3, 4], [5, 6]])\n",
    "\n",
    "# An example of integer array indexing.\n",
    "# The returned array will have shape (3,) and \n",
    "print(a[[0, 1, 2], [0, 1, 0]])\n",
    "\n",
    "# The above example of integer array indexing is equivalent to this:\n",
    "print(np.array([a[0, 0], a[1, 1], a[2, 0]]))"
   ]
  },
  {
   "cell_type": "code",
   "execution_count": 16,
   "metadata": {},
   "outputs": [
    {
     "name": "stdout",
     "output_type": "stream",
     "text": [
      "[2 2]\n",
      "[2 2]\n"
     ]
    }
   ],
   "source": [
    "# When using integer array indexing, you can reuse the same\n",
    "# element from the source array:\n",
    "print(a[[0, 0], [1, 1]])\n",
    "\n",
    "# Equivalent to the previous integer array indexing example\n",
    "print(np.array([a[0, 1], a[0, 1]]))"
   ]
  },
  {
   "cell_type": "markdown",
   "metadata": {},
   "source": [
    "One useful trick with integer array indexing is selecting or mutating one element from each row of a matrix:"
   ]
  },
  {
   "cell_type": "code",
   "execution_count": 17,
   "metadata": {},
   "outputs": [
    {
     "name": "stdout",
     "output_type": "stream",
     "text": [
      "[[ 1  2  3]\n",
      " [ 4  5  6]\n",
      " [ 7  8  9]\n",
      " [10 11 12]]\n"
     ]
    }
   ],
   "source": [
    "# Create a new array from which we will select elements\n",
    "a = np.array([[1,2,3], [4,5,6], [7,8,9], [10, 11, 12]])\n",
    "print(a)"
   ]
  },
  {
   "cell_type": "code",
   "execution_count": 18,
   "metadata": {},
   "outputs": [
    {
     "name": "stdout",
     "output_type": "stream",
     "text": [
      "[ 1  6  7 11]\n"
     ]
    }
   ],
   "source": [
    "# Create an array of indices\n",
    "b = np.array([0, 2, 0, 1])\n",
    "\n",
    "# Select one element from each row of a using the indices in b\n",
    "print(a[np.arange(4), b])  # Prints \"[ 1  6  7 11]\""
   ]
  },
  {
   "cell_type": "code",
   "execution_count": 19,
   "metadata": {},
   "outputs": [
    {
     "name": "stdout",
     "output_type": "stream",
     "text": [
      "[[11  2  3]\n",
      " [ 4  5 16]\n",
      " [17  8  9]\n",
      " [10 21 12]]\n"
     ]
    }
   ],
   "source": [
    "# Mutate one element from each row of a using the indices in b\n",
    "a[np.arange(4), b] += 10\n",
    "print(a)"
   ]
  },
  {
   "cell_type": "markdown",
   "metadata": {},
   "source": [
    "#### Boolean array indexing\n",
    "Boolean array indexing lets you pick out arbitrary elements of an array. Frequently this type of indexing is used to select the elements of an array that satisfy some condition. Here is an example:"
   ]
  },
  {
   "cell_type": "code",
   "execution_count": 20,
   "metadata": {},
   "outputs": [
    {
     "name": "stdout",
     "output_type": "stream",
     "text": [
      "[[False False]\n",
      " [ True  True]\n",
      " [ True  True]]\n"
     ]
    }
   ],
   "source": [
    "import numpy as np\n",
    "\n",
    "a = np.array([[1,2], [3, 4], [5, 6]])\n",
    "\n",
    "bool_idx = (a > 2)  # Find the elements of a that are bigger than 2;\n",
    "                    # this returns a numpy array of Booleans of the same\n",
    "                    # shape as a, where each slot of bool_idx tells\n",
    "                    # whether that element of a is > 2.\n",
    "\n",
    "print(bool_idx)"
   ]
  },
  {
   "cell_type": "code",
   "execution_count": 21,
   "metadata": {},
   "outputs": [
    {
     "name": "stdout",
     "output_type": "stream",
     "text": [
      "[3 4 5 6]\n",
      "[3 4 5 6]\n"
     ]
    }
   ],
   "source": [
    "# We use boolean array indexing to construct a rank 1 array\n",
    "# consisting of the elements of a corresponding to the True values\n",
    "# of bool_idx\n",
    "print(a[bool_idx])\n",
    "\n",
    "# We can do all of the above in a single concise statement:\n",
    "print(a[a > 2])"
   ]
  },
  {
   "cell_type": "markdown",
   "metadata": {},
   "source": [
    "For brevity we have left out a lot of details about numpy array indexing; if you want to know more you should read the documentation."
   ]
  },
  {
   "cell_type": "markdown",
   "metadata": {},
   "source": [
    "### Datatypes"
   ]
  },
  {
   "cell_type": "markdown",
   "metadata": {},
   "source": [
    "Every numpy array is a grid of elements of the same type. Numpy provides a large set of numeric datatypes that you can use to construct arrays. Numpy tries to guess a datatype when you create an array, but functions that construct arrays usually also include an optional argument to explicitly specify the datatype. Here is an example:"
   ]
  },
  {
   "cell_type": "code",
   "execution_count": 22,
   "metadata": {},
   "outputs": [
    {
     "name": "stdout",
     "output_type": "stream",
     "text": [
      "int64 float64 int64\n"
     ]
    }
   ],
   "source": [
    "x = np.array([1, 2])  # Let numpy choose the datatype\n",
    "y = np.array([1.0, 2.0])  # Let numpy choose the datatype\n",
    "z = np.array([1, 2], dtype=np.int64)  # Force a particular datatype\n",
    "\n",
    "print(x.dtype, y.dtype, z.dtype)"
   ]
  },
  {
   "cell_type": "markdown",
   "metadata": {},
   "source": [
    "You can read all about numpy datatypes in the [documentation](http://docs.scipy.org/doc/numpy/reference/arrays.dtypes.html)."
   ]
  },
  {
   "cell_type": "markdown",
   "metadata": {},
   "source": [
    "### Array math"
   ]
  },
  {
   "cell_type": "markdown",
   "metadata": {},
   "source": [
    "Basic mathematical functions operate elementwise on arrays, and are available both as operator overloads and as functions in the numpy module:"
   ]
  },
  {
   "cell_type": "code",
   "execution_count": 23,
   "metadata": {},
   "outputs": [
    {
     "name": "stdout",
     "output_type": "stream",
     "text": [
      "[[ 6.  8.]\n",
      " [10. 12.]]\n",
      "[[ 6.  8.]\n",
      " [10. 12.]]\n"
     ]
    }
   ],
   "source": [
    "x = np.array([[1,2],[3,4]], dtype=np.float64)\n",
    "y = np.array([[5,6],[7,8]], dtype=np.float64)\n",
    "\n",
    "# Elementwise sum; both produce the array\n",
    "print(x + y)\n",
    "print(np.add(x, y))"
   ]
  },
  {
   "cell_type": "code",
   "execution_count": 24,
   "metadata": {},
   "outputs": [
    {
     "name": "stdout",
     "output_type": "stream",
     "text": [
      "[[-4. -4.]\n",
      " [-4. -4.]]\n",
      "[[-4. -4.]\n",
      " [-4. -4.]]\n"
     ]
    }
   ],
   "source": [
    "# Elementwise difference; both produce the array\n",
    "print(x - y)\n",
    "print(np.subtract(x, y))"
   ]
  },
  {
   "cell_type": "code",
   "execution_count": 25,
   "metadata": {},
   "outputs": [
    {
     "name": "stdout",
     "output_type": "stream",
     "text": [
      "[[ 5. 12.]\n",
      " [21. 32.]]\n",
      "[[ 5. 12.]\n",
      " [21. 32.]]\n"
     ]
    }
   ],
   "source": [
    "# Elementwise product; both produce the array\n",
    "print(x * y)\n",
    "print(np.multiply(x, y))"
   ]
  },
  {
   "cell_type": "code",
   "execution_count": 26,
   "metadata": {},
   "outputs": [
    {
     "name": "stdout",
     "output_type": "stream",
     "text": [
      "[[0.2        0.33333333]\n",
      " [0.42857143 0.5       ]]\n",
      "[[0.2        0.33333333]\n",
      " [0.42857143 0.5       ]]\n"
     ]
    }
   ],
   "source": [
    "# Elementwise division; both produce the array\n",
    "# [[ 0.2         0.33333333]\n",
    "#  [ 0.42857143  0.5       ]]\n",
    "print(x / y)\n",
    "print(np.divide(x, y))"
   ]
  },
  {
   "cell_type": "code",
   "execution_count": 27,
   "metadata": {},
   "outputs": [
    {
     "name": "stdout",
     "output_type": "stream",
     "text": [
      "[[1.         1.41421356]\n",
      " [1.73205081 2.        ]]\n"
     ]
    }
   ],
   "source": [
    "# Elementwise square root; produces the array\n",
    "# [[ 1.          1.41421356]\n",
    "#  [ 1.73205081  2.        ]]\n",
    "print(np.sqrt(x))"
   ]
  },
  {
   "cell_type": "markdown",
   "metadata": {},
   "source": [
    "Note that unlike MATLAB, `*` is elementwise multiplication, not matrix multiplication. We instead use the dot function to compute inner products of vectors, to multiply a vector by a matrix, and to multiply matrices. dot is available both as a function in the numpy module and as an instance method of array objects:"
   ]
  },
  {
   "cell_type": "code",
   "execution_count": 28,
   "metadata": {},
   "outputs": [
    {
     "name": "stdout",
     "output_type": "stream",
     "text": [
      "219\n",
      "219\n"
     ]
    }
   ],
   "source": [
    "x = np.array([[1,2],[3,4]])\n",
    "y = np.array([[5,6],[7,8]])\n",
    "\n",
    "v = np.array([9,10])\n",
    "w = np.array([11, 12])\n",
    "\n",
    "# Inner product of vectors; both produce 219\n",
    "print(v.dot(w))\n",
    "print(np.dot(v, w))"
   ]
  },
  {
   "cell_type": "code",
   "execution_count": 29,
   "metadata": {},
   "outputs": [
    {
     "name": "stdout",
     "output_type": "stream",
     "text": [
      "[29 67]\n",
      "[29 67]\n"
     ]
    }
   ],
   "source": [
    "# Matrix / vector product; both produce the rank 1 array [29 67]\n",
    "print(x.dot(v))\n",
    "print(np.dot(x, v))"
   ]
  },
  {
   "cell_type": "code",
   "execution_count": 30,
   "metadata": {},
   "outputs": [
    {
     "name": "stdout",
     "output_type": "stream",
     "text": [
      "[[19 22]\n",
      " [43 50]]\n",
      "[[19 22]\n",
      " [43 50]]\n",
      "[[19 22]\n",
      " [43 50]]\n",
      "[[19 22]\n",
      " [43 50]]\n"
     ]
    }
   ],
   "source": [
    "# Matrix / matrix product; both produce the rank 2 array\n",
    "# [[19 22]\n",
    "#  [43 50]]\n",
    "print(x @ y)\n",
    "print(np.matmul(x,y))\n",
    "print(x.dot(y))\n",
    "print(np.dot(x, y))"
   ]
  },
  {
   "cell_type": "code",
   "execution_count": 31,
   "metadata": {},
   "outputs": [
    {
     "name": "stdout",
     "output_type": "stream",
     "text": [
      "10\n",
      "[4 6]\n",
      "[3 7]\n"
     ]
    }
   ],
   "source": [
    "x = np.array([[1,2],[3,4]])\n",
    "\n",
    "print(np.sum(x))  # Compute sum of all elements; prints \"10\"\n",
    "print(np.sum(x, axis=0))  # Compute sum of each column; prints \"[4 6]\"\n",
    "print(np.sum(x, axis=1))  # Compute sum of each row; prints \"[3 7]\""
   ]
  },
  {
   "cell_type": "markdown",
   "metadata": {},
   "source": [
    "You can find the full list of mathematical functions provided by numpy in the [documentation](http://docs.scipy.org/doc/numpy/reference/routines.math.html).\n",
    "\n",
    "Apart from computing mathematical functions using arrays, we frequently need to reshape or otherwise manipulate data in arrays. The simplest example of this type of operation is transposing a matrix; to transpose a matrix, simply use the T attribute of an array object:"
   ]
  },
  {
   "cell_type": "code",
   "execution_count": 32,
   "metadata": {},
   "outputs": [
    {
     "name": "stdout",
     "output_type": "stream",
     "text": [
      "[[1 2]\n",
      " [3 4]]\n",
      "[[1 3]\n",
      " [2 4]]\n"
     ]
    }
   ],
   "source": [
    "print(x)\n",
    "print(x.T)"
   ]
  },
  {
   "cell_type": "code",
   "execution_count": 33,
   "metadata": {},
   "outputs": [
    {
     "name": "stdout",
     "output_type": "stream",
     "text": [
      "[[1 2 3]]\n",
      "[[1]\n",
      " [2]\n",
      " [3]]\n"
     ]
    }
   ],
   "source": [
    "v = np.array([[1,2,3]])\n",
    "print(v)\n",
    "print(v.T)"
   ]
  },
  {
   "cell_type": "markdown",
   "metadata": {},
   "source": [
    "### Broadcasting"
   ]
  },
  {
   "cell_type": "markdown",
   "metadata": {},
   "source": [
    "Broadcasting is a powerful mechanism that allows numpy to work with arrays of different shapes when performing arithmetic operations. Frequently we have a smaller array and a larger array, and we want to use the smaller array multiple times to perform some operation on the larger array.\n",
    "\n",
    "For example, suppose that we want to add a constant vector to each row of a matrix. We could do it like this:"
   ]
  },
  {
   "cell_type": "code",
   "execution_count": 34,
   "metadata": {},
   "outputs": [
    {
     "name": "stdout",
     "output_type": "stream",
     "text": [
      "[[ 2  2  4]\n",
      " [ 5  5  7]\n",
      " [ 8  8 10]\n",
      " [11 11 13]]\n"
     ]
    }
   ],
   "source": [
    "# We will add the vector v to each row of the matrix x,\n",
    "# storing the result in the matrix y\n",
    "x = np.array([[1,2,3], [4,5,6], [7,8,9], [10, 11, 12]])\n",
    "v = np.array([1, 0, 1])\n",
    "y = np.empty_like(x)   # Create an empty matrix with the same shape as x\n",
    "\n",
    "# Add the vector v to each row of the matrix x with an explicit loop\n",
    "for i in range(4):\n",
    "    y[i, :] = x[i, :] + v\n",
    "\n",
    "print(y)"
   ]
  },
  {
   "cell_type": "markdown",
   "metadata": {},
   "source": [
    "This works; however when the matrix `x` is very large, computing an explicit loop in Python could be slow. Note that adding the vector v to each row of the matrix `x` is equivalent to forming a matrix `vv` by stacking multiple copies of `v` vertically, then performing elementwise summation of `x` and `vv`. We could implement this approach like this:"
   ]
  },
  {
   "cell_type": "code",
   "execution_count": 35,
   "metadata": {},
   "outputs": [
    {
     "name": "stdout",
     "output_type": "stream",
     "text": [
      "[[1 0 1]\n",
      " [1 0 1]\n",
      " [1 0 1]\n",
      " [1 0 1]]\n"
     ]
    }
   ],
   "source": [
    "vv = np.tile(v, (4, 1))  # Stack 4 copies of v on top of each other\n",
    "print(vv)                # Prints \"[[1 0 1]\n",
    "                         #          [1 0 1]\n",
    "                         #          [1 0 1]\n",
    "                         #          [1 0 1]]\""
   ]
  },
  {
   "cell_type": "code",
   "execution_count": 36,
   "metadata": {},
   "outputs": [
    {
     "name": "stdout",
     "output_type": "stream",
     "text": [
      "[[ 2  2  4]\n",
      " [ 5  5  7]\n",
      " [ 8  8 10]\n",
      " [11 11 13]]\n"
     ]
    }
   ],
   "source": [
    "y = x + vv  # Add x and vv elementwise\n",
    "print(y)"
   ]
  },
  {
   "cell_type": "markdown",
   "metadata": {},
   "source": [
    "Numpy broadcasting allows us to perform this computation without actually creating multiple copies of v. Consider this version, using broadcasting:"
   ]
  },
  {
   "cell_type": "code",
   "execution_count": 37,
   "metadata": {},
   "outputs": [
    {
     "name": "stdout",
     "output_type": "stream",
     "text": [
      "[[ 2  2  4]\n",
      " [ 5  5  7]\n",
      " [ 8  8 10]\n",
      " [11 11 13]]\n"
     ]
    }
   ],
   "source": [
    "import numpy as np\n",
    "\n",
    "# We will add the vector v to each row of the matrix x,\n",
    "# storing the result in the matrix y\n",
    "x = np.array([[1,2,3], [4,5,6], [7,8,9], [10, 11, 12]])\n",
    "v = np.array([1, 0, 1])\n",
    "y = x + v  # Add v to each row of x using broadcasting\n",
    "print(y)"
   ]
  },
  {
   "cell_type": "markdown",
   "metadata": {},
   "source": [
    "The line `y = x + v` works even though `x` has shape `(4, 3)` and `v` has shape `(3,)` due to broadcasting; this line works as if v actually had shape `(4, 3)`, where each row was a copy of `v`, and the sum was performed elementwise.\n",
    "\n",
    "Broadcasting two arrays together follows these rules:\n",
    "\n",
    "1. If the arrays do not have the same rank, prepend the shape of the lower rank array with 1s until both shapes have the same length.\n",
    "2. The two arrays are said to be compatible in a dimension if they have the same size in the dimension, or if one of the arrays has size 1 in that dimension.\n",
    "3. The arrays can be broadcast together if they are compatible in all dimensions.\n",
    "4. After broadcasting, each array behaves as if it had shape equal to the elementwise maximum of shapes of the two input arrays.\n",
    "5. In any dimension where one array had size 1 and the other array had size greater than 1, the first array behaves as if it were copied along that dimension\n",
    "\n",
    "If this explanation does not make sense, try reading the explanation from the [documentation](http://docs.scipy.org/doc/numpy/user/basics.broadcasting.html) or this [explanation](http://wiki.scipy.org/EricsBroadcastingDoc).\n",
    "\n",
    "Functions that support broadcasting are known as universal functions. You can find the list of all universal functions in the [documentation](http://docs.scipy.org/doc/numpy/reference/ufuncs.html#available-ufuncs).\n",
    "\n",
    "Here are some applications of broadcasting:"
   ]
  },
  {
   "cell_type": "code",
   "execution_count": 38,
   "metadata": {},
   "outputs": [
    {
     "name": "stdout",
     "output_type": "stream",
     "text": [
      "[[ 4  5]\n",
      " [ 8 10]\n",
      " [12 15]]\n"
     ]
    }
   ],
   "source": [
    "# Compute outer product of vectors\n",
    "v = np.array([1,2,3])  # v has shape (3,)\n",
    "w = np.array([4,5])    # w has shape (2,)\n",
    "# To compute an outer product, we first reshape v to be a column\n",
    "# vector of shape (3, 1); we can then broadcast it against w to yield\n",
    "# an output of shape (3, 2), which is the outer product of v and w:\n",
    "\n",
    "print(np.reshape(v, (3, 1)) * w)"
   ]
  },
  {
   "cell_type": "code",
   "execution_count": 39,
   "metadata": {},
   "outputs": [
    {
     "name": "stdout",
     "output_type": "stream",
     "text": [
      "[[2 4 6]\n",
      " [5 7 9]]\n"
     ]
    }
   ],
   "source": [
    "# Add a vector to each row of a matrix\n",
    "x = np.array([[1,2,3], [4,5,6]])\n",
    "# x has shape (2, 3) and v has shape (3,) so they broadcast to (2, 3),\n",
    "# giving the following matrix:\n",
    "\n",
    "print(x + v)"
   ]
  },
  {
   "cell_type": "code",
   "execution_count": 40,
   "metadata": {},
   "outputs": [
    {
     "name": "stdout",
     "output_type": "stream",
     "text": [
      "[[ 5  6  7]\n",
      " [ 9 10 11]]\n"
     ]
    }
   ],
   "source": [
    "# Add a vector to each column of a matrix\n",
    "# x has shape (2, 3) and w has shape (2,).\n",
    "# If we transpose x then it has shape (3, 2) and can be broadcast\n",
    "# against w to yield a result of shape (3, 2); transposing this result\n",
    "# yields the final result of shape (2, 3) which is the matrix x with\n",
    "# the vector w added to each column. Gives the following matrix:\n",
    "\n",
    "print((x.T + w).T)"
   ]
  },
  {
   "cell_type": "code",
   "execution_count": 41,
   "metadata": {},
   "outputs": [
    {
     "name": "stdout",
     "output_type": "stream",
     "text": [
      "[[ 5  6  7]\n",
      " [ 9 10 11]]\n"
     ]
    }
   ],
   "source": [
    "# Another solution is to reshape w to be a row vector of shape (2, 1);\n",
    "# we can then broadcast it directly against x to produce the same\n",
    "# output.\n",
    "print(x + np.reshape(w, (2, 1)))"
   ]
  },
  {
   "cell_type": "code",
   "execution_count": 42,
   "metadata": {},
   "outputs": [
    {
     "name": "stdout",
     "output_type": "stream",
     "text": [
      "[[ 2  4  6]\n",
      " [ 8 10 12]]\n"
     ]
    }
   ],
   "source": [
    "# Multiply a matrix by a constant:\n",
    "# x has shape (2, 3). Numpy treats scalars as arrays of shape ();\n",
    "# these can be broadcast together to shape (2, 3), producing the\n",
    "# following array:\n",
    "print(x * 2)"
   ]
  },
  {
   "cell_type": "markdown",
   "metadata": {},
   "source": [
    "Broadcasting typically makes your code more concise and faster, so you should strive to use it where possible."
   ]
  },
  {
   "cell_type": "markdown",
   "metadata": {},
   "source": [
    "This brief overview has touched on many of the important things that you need to know about numpy, but is far from complete. Check out the numpy reference to find out much more about numpy."
   ]
  },
  {
   "cell_type": "markdown",
   "metadata": {},
   "source": [
    "## Play MLP with Mnist dataset\n",
    "\n",
    "The MNIST database (Modified National Institute of Standards and Technology database) is a large database of handwritten digits that is commonly used for training various image processing systems.\n",
    "\n",
    "The input data consists of 28x28 pixel handwritten digits, leading to 784 features in the dataset. The output data consists of 10 classes from 0-9.\n",
    "\n",
    "This notebook credits by [Visualization of MLP weights on MNIST](https://scikit-learn.org/stable/auto_examples/neural_networks/plot_mnist_filters.html)."
   ]
  },
  {
   "cell_type": "markdown",
   "metadata": {},
   "source": [
    "We can load the Mnist dataset easily by sklearn datasets utilities."
   ]
  },
  {
   "cell_type": "code",
   "execution_count": 43,
   "metadata": {},
   "outputs": [],
   "source": [
    "from sklearn.datasets import fetch_openml\n",
    "\n",
    "# Load data from https://www.openml.org/d/554\n",
    "X, y = fetch_openml('mnist_784', version=1, return_X_y=True)\n",
    "X = X / 255."
   ]
  },
  {
   "cell_type": "markdown",
   "metadata": {},
   "source": [
    "After downloading and loading the dataset, we randomly pick an image and show it by matplot"
   ]
  },
  {
   "cell_type": "code",
   "execution_count": 44,
   "metadata": {},
   "outputs": [
    {
     "data": {
      "application/javascript": [
       "/* Put everything inside the global mpl namespace */\n",
       "/* global mpl */\n",
       "window.mpl = {};\n",
       "\n",
       "mpl.get_websocket_type = function () {\n",
       "    if (typeof WebSocket !== 'undefined') {\n",
       "        return WebSocket;\n",
       "    } else if (typeof MozWebSocket !== 'undefined') {\n",
       "        return MozWebSocket;\n",
       "    } else {\n",
       "        alert(\n",
       "            'Your browser does not have WebSocket support. ' +\n",
       "                'Please try Chrome, Safari or Firefox ≥ 6. ' +\n",
       "                'Firefox 4 and 5 are also supported but you ' +\n",
       "                'have to enable WebSockets in about:config.'\n",
       "        );\n",
       "    }\n",
       "};\n",
       "\n",
       "mpl.figure = function (figure_id, websocket, ondownload, parent_element) {\n",
       "    this.id = figure_id;\n",
       "\n",
       "    this.ws = websocket;\n",
       "\n",
       "    this.supports_binary = this.ws.binaryType !== undefined;\n",
       "\n",
       "    if (!this.supports_binary) {\n",
       "        var warnings = document.getElementById('mpl-warnings');\n",
       "        if (warnings) {\n",
       "            warnings.style.display = 'block';\n",
       "            warnings.textContent =\n",
       "                'This browser does not support binary websocket messages. ' +\n",
       "                'Performance may be slow.';\n",
       "        }\n",
       "    }\n",
       "\n",
       "    this.imageObj = new Image();\n",
       "\n",
       "    this.context = undefined;\n",
       "    this.message = undefined;\n",
       "    this.canvas = undefined;\n",
       "    this.rubberband_canvas = undefined;\n",
       "    this.rubberband_context = undefined;\n",
       "    this.format_dropdown = undefined;\n",
       "\n",
       "    this.image_mode = 'full';\n",
       "\n",
       "    this.root = document.createElement('div');\n",
       "    this.root.setAttribute('style', 'display: inline-block');\n",
       "    this._root_extra_style(this.root);\n",
       "\n",
       "    parent_element.appendChild(this.root);\n",
       "\n",
       "    this._init_header(this);\n",
       "    this._init_canvas(this);\n",
       "    this._init_toolbar(this);\n",
       "\n",
       "    var fig = this;\n",
       "\n",
       "    this.waiting = false;\n",
       "\n",
       "    this.ws.onopen = function () {\n",
       "        fig.send_message('supports_binary', { value: fig.supports_binary });\n",
       "        fig.send_message('send_image_mode', {});\n",
       "        if (mpl.ratio !== 1) {\n",
       "            fig.send_message('set_dpi_ratio', { dpi_ratio: mpl.ratio });\n",
       "        }\n",
       "        fig.send_message('refresh', {});\n",
       "    };\n",
       "\n",
       "    this.imageObj.onload = function () {\n",
       "        if (fig.image_mode === 'full') {\n",
       "            // Full images could contain transparency (where diff images\n",
       "            // almost always do), so we need to clear the canvas so that\n",
       "            // there is no ghosting.\n",
       "            fig.context.clearRect(0, 0, fig.canvas.width, fig.canvas.height);\n",
       "        }\n",
       "        fig.context.drawImage(fig.imageObj, 0, 0);\n",
       "    };\n",
       "\n",
       "    this.imageObj.onunload = function () {\n",
       "        fig.ws.close();\n",
       "    };\n",
       "\n",
       "    this.ws.onmessage = this._make_on_message_function(this);\n",
       "\n",
       "    this.ondownload = ondownload;\n",
       "};\n",
       "\n",
       "mpl.figure.prototype._init_header = function () {\n",
       "    var titlebar = document.createElement('div');\n",
       "    titlebar.classList =\n",
       "        'ui-dialog-titlebar ui-widget-header ui-corner-all ui-helper-clearfix';\n",
       "    var titletext = document.createElement('div');\n",
       "    titletext.classList = 'ui-dialog-title';\n",
       "    titletext.setAttribute(\n",
       "        'style',\n",
       "        'width: 100%; text-align: center; padding: 3px;'\n",
       "    );\n",
       "    titlebar.appendChild(titletext);\n",
       "    this.root.appendChild(titlebar);\n",
       "    this.header = titletext;\n",
       "};\n",
       "\n",
       "mpl.figure.prototype._canvas_extra_style = function (_canvas_div) {};\n",
       "\n",
       "mpl.figure.prototype._root_extra_style = function (_canvas_div) {};\n",
       "\n",
       "mpl.figure.prototype._init_canvas = function () {\n",
       "    var fig = this;\n",
       "\n",
       "    var canvas_div = (this.canvas_div = document.createElement('div'));\n",
       "    canvas_div.setAttribute(\n",
       "        'style',\n",
       "        'border: 1px solid #ddd;' +\n",
       "            'box-sizing: content-box;' +\n",
       "            'clear: both;' +\n",
       "            'min-height: 1px;' +\n",
       "            'min-width: 1px;' +\n",
       "            'outline: 0;' +\n",
       "            'overflow: hidden;' +\n",
       "            'position: relative;' +\n",
       "            'resize: both;'\n",
       "    );\n",
       "\n",
       "    function on_keyboard_event_closure(name) {\n",
       "        return function (event) {\n",
       "            return fig.key_event(event, name);\n",
       "        };\n",
       "    }\n",
       "\n",
       "    canvas_div.addEventListener(\n",
       "        'keydown',\n",
       "        on_keyboard_event_closure('key_press')\n",
       "    );\n",
       "    canvas_div.addEventListener(\n",
       "        'keyup',\n",
       "        on_keyboard_event_closure('key_release')\n",
       "    );\n",
       "\n",
       "    this._canvas_extra_style(canvas_div);\n",
       "    this.root.appendChild(canvas_div);\n",
       "\n",
       "    var canvas = (this.canvas = document.createElement('canvas'));\n",
       "    canvas.classList.add('mpl-canvas');\n",
       "    canvas.setAttribute('style', 'box-sizing: content-box;');\n",
       "\n",
       "    this.context = canvas.getContext('2d');\n",
       "\n",
       "    var backingStore =\n",
       "        this.context.backingStorePixelRatio ||\n",
       "        this.context.webkitBackingStorePixelRatio ||\n",
       "        this.context.mozBackingStorePixelRatio ||\n",
       "        this.context.msBackingStorePixelRatio ||\n",
       "        this.context.oBackingStorePixelRatio ||\n",
       "        this.context.backingStorePixelRatio ||\n",
       "        1;\n",
       "\n",
       "    mpl.ratio = (window.devicePixelRatio || 1) / backingStore;\n",
       "\n",
       "    var rubberband_canvas = (this.rubberband_canvas = document.createElement(\n",
       "        'canvas'\n",
       "    ));\n",
       "    rubberband_canvas.setAttribute(\n",
       "        'style',\n",
       "        'box-sizing: content-box; position: absolute; left: 0; top: 0; z-index: 1;'\n",
       "    );\n",
       "\n",
       "    var resizeObserver = new ResizeObserver(function (entries) {\n",
       "        var nentries = entries.length;\n",
       "        for (var i = 0; i < nentries; i++) {\n",
       "            var entry = entries[i];\n",
       "            var width, height;\n",
       "            if (entry.contentBoxSize) {\n",
       "                if (entry.contentBoxSize instanceof Array) {\n",
       "                    // Chrome 84 implements new version of spec.\n",
       "                    width = entry.contentBoxSize[0].inlineSize;\n",
       "                    height = entry.contentBoxSize[0].blockSize;\n",
       "                } else {\n",
       "                    // Firefox implements old version of spec.\n",
       "                    width = entry.contentBoxSize.inlineSize;\n",
       "                    height = entry.contentBoxSize.blockSize;\n",
       "                }\n",
       "            } else {\n",
       "                // Chrome <84 implements even older version of spec.\n",
       "                width = entry.contentRect.width;\n",
       "                height = entry.contentRect.height;\n",
       "            }\n",
       "\n",
       "            // Keep the size of the canvas and rubber band canvas in sync with\n",
       "            // the canvas container.\n",
       "            if (entry.devicePixelContentBoxSize) {\n",
       "                // Chrome 84 implements new version of spec.\n",
       "                canvas.setAttribute(\n",
       "                    'width',\n",
       "                    entry.devicePixelContentBoxSize[0].inlineSize\n",
       "                );\n",
       "                canvas.setAttribute(\n",
       "                    'height',\n",
       "                    entry.devicePixelContentBoxSize[0].blockSize\n",
       "                );\n",
       "            } else {\n",
       "                canvas.setAttribute('width', width * mpl.ratio);\n",
       "                canvas.setAttribute('height', height * mpl.ratio);\n",
       "            }\n",
       "            canvas.setAttribute(\n",
       "                'style',\n",
       "                'width: ' + width + 'px; height: ' + height + 'px;'\n",
       "            );\n",
       "\n",
       "            rubberband_canvas.setAttribute('width', width);\n",
       "            rubberband_canvas.setAttribute('height', height);\n",
       "\n",
       "            // And update the size in Python. We ignore the initial 0/0 size\n",
       "            // that occurs as the element is placed into the DOM, which should\n",
       "            // otherwise not happen due to the minimum size styling.\n",
       "            if (width != 0 && height != 0) {\n",
       "                fig.request_resize(width, height);\n",
       "            }\n",
       "        }\n",
       "    });\n",
       "    resizeObserver.observe(canvas_div);\n",
       "\n",
       "    function on_mouse_event_closure(name) {\n",
       "        return function (event) {\n",
       "            return fig.mouse_event(event, name);\n",
       "        };\n",
       "    }\n",
       "\n",
       "    rubberband_canvas.addEventListener(\n",
       "        'mousedown',\n",
       "        on_mouse_event_closure('button_press')\n",
       "    );\n",
       "    rubberband_canvas.addEventListener(\n",
       "        'mouseup',\n",
       "        on_mouse_event_closure('button_release')\n",
       "    );\n",
       "    // Throttle sequential mouse events to 1 every 20ms.\n",
       "    rubberband_canvas.addEventListener(\n",
       "        'mousemove',\n",
       "        on_mouse_event_closure('motion_notify')\n",
       "    );\n",
       "\n",
       "    rubberband_canvas.addEventListener(\n",
       "        'mouseenter',\n",
       "        on_mouse_event_closure('figure_enter')\n",
       "    );\n",
       "    rubberband_canvas.addEventListener(\n",
       "        'mouseleave',\n",
       "        on_mouse_event_closure('figure_leave')\n",
       "    );\n",
       "\n",
       "    canvas_div.addEventListener('wheel', function (event) {\n",
       "        if (event.deltaY < 0) {\n",
       "            event.step = 1;\n",
       "        } else {\n",
       "            event.step = -1;\n",
       "        }\n",
       "        on_mouse_event_closure('scroll')(event);\n",
       "    });\n",
       "\n",
       "    canvas_div.appendChild(canvas);\n",
       "    canvas_div.appendChild(rubberband_canvas);\n",
       "\n",
       "    this.rubberband_context = rubberband_canvas.getContext('2d');\n",
       "    this.rubberband_context.strokeStyle = '#000000';\n",
       "\n",
       "    this._resize_canvas = function (width, height, forward) {\n",
       "        if (forward) {\n",
       "            canvas_div.style.width = width + 'px';\n",
       "            canvas_div.style.height = height + 'px';\n",
       "        }\n",
       "    };\n",
       "\n",
       "    // Disable right mouse context menu.\n",
       "    this.rubberband_canvas.addEventListener('contextmenu', function (_e) {\n",
       "        event.preventDefault();\n",
       "        return false;\n",
       "    });\n",
       "\n",
       "    function set_focus() {\n",
       "        canvas.focus();\n",
       "        canvas_div.focus();\n",
       "    }\n",
       "\n",
       "    window.setTimeout(set_focus, 100);\n",
       "};\n",
       "\n",
       "mpl.figure.prototype._init_toolbar = function () {\n",
       "    var fig = this;\n",
       "\n",
       "    var toolbar = document.createElement('div');\n",
       "    toolbar.classList = 'mpl-toolbar';\n",
       "    this.root.appendChild(toolbar);\n",
       "\n",
       "    function on_click_closure(name) {\n",
       "        return function (_event) {\n",
       "            return fig.toolbar_button_onclick(name);\n",
       "        };\n",
       "    }\n",
       "\n",
       "    function on_mouseover_closure(tooltip) {\n",
       "        return function (event) {\n",
       "            if (!event.currentTarget.disabled) {\n",
       "                return fig.toolbar_button_onmouseover(tooltip);\n",
       "            }\n",
       "        };\n",
       "    }\n",
       "\n",
       "    fig.buttons = {};\n",
       "    var buttonGroup = document.createElement('div');\n",
       "    buttonGroup.classList = 'mpl-button-group';\n",
       "    for (var toolbar_ind in mpl.toolbar_items) {\n",
       "        var name = mpl.toolbar_items[toolbar_ind][0];\n",
       "        var tooltip = mpl.toolbar_items[toolbar_ind][1];\n",
       "        var image = mpl.toolbar_items[toolbar_ind][2];\n",
       "        var method_name = mpl.toolbar_items[toolbar_ind][3];\n",
       "\n",
       "        if (!name) {\n",
       "            /* Instead of a spacer, we start a new button group. */\n",
       "            if (buttonGroup.hasChildNodes()) {\n",
       "                toolbar.appendChild(buttonGroup);\n",
       "            }\n",
       "            buttonGroup = document.createElement('div');\n",
       "            buttonGroup.classList = 'mpl-button-group';\n",
       "            continue;\n",
       "        }\n",
       "\n",
       "        var button = (fig.buttons[name] = document.createElement('button'));\n",
       "        button.classList = 'mpl-widget';\n",
       "        button.setAttribute('role', 'button');\n",
       "        button.setAttribute('aria-disabled', 'false');\n",
       "        button.addEventListener('click', on_click_closure(method_name));\n",
       "        button.addEventListener('mouseover', on_mouseover_closure(tooltip));\n",
       "\n",
       "        var icon_img = document.createElement('img');\n",
       "        icon_img.src = '_images/' + image + '.png';\n",
       "        icon_img.srcset = '_images/' + image + '_large.png 2x';\n",
       "        icon_img.alt = tooltip;\n",
       "        button.appendChild(icon_img);\n",
       "\n",
       "        buttonGroup.appendChild(button);\n",
       "    }\n",
       "\n",
       "    if (buttonGroup.hasChildNodes()) {\n",
       "        toolbar.appendChild(buttonGroup);\n",
       "    }\n",
       "\n",
       "    var fmt_picker = document.createElement('select');\n",
       "    fmt_picker.classList = 'mpl-widget';\n",
       "    toolbar.appendChild(fmt_picker);\n",
       "    this.format_dropdown = fmt_picker;\n",
       "\n",
       "    for (var ind in mpl.extensions) {\n",
       "        var fmt = mpl.extensions[ind];\n",
       "        var option = document.createElement('option');\n",
       "        option.selected = fmt === mpl.default_extension;\n",
       "        option.innerHTML = fmt;\n",
       "        fmt_picker.appendChild(option);\n",
       "    }\n",
       "\n",
       "    var status_bar = document.createElement('span');\n",
       "    status_bar.classList = 'mpl-message';\n",
       "    toolbar.appendChild(status_bar);\n",
       "    this.message = status_bar;\n",
       "};\n",
       "\n",
       "mpl.figure.prototype.request_resize = function (x_pixels, y_pixels) {\n",
       "    // Request matplotlib to resize the figure. Matplotlib will then trigger a resize in the client,\n",
       "    // which will in turn request a refresh of the image.\n",
       "    this.send_message('resize', { width: x_pixels, height: y_pixels });\n",
       "};\n",
       "\n",
       "mpl.figure.prototype.send_message = function (type, properties) {\n",
       "    properties['type'] = type;\n",
       "    properties['figure_id'] = this.id;\n",
       "    this.ws.send(JSON.stringify(properties));\n",
       "};\n",
       "\n",
       "mpl.figure.prototype.send_draw_message = function () {\n",
       "    if (!this.waiting) {\n",
       "        this.waiting = true;\n",
       "        this.ws.send(JSON.stringify({ type: 'draw', figure_id: this.id }));\n",
       "    }\n",
       "};\n",
       "\n",
       "mpl.figure.prototype.handle_save = function (fig, _msg) {\n",
       "    var format_dropdown = fig.format_dropdown;\n",
       "    var format = format_dropdown.options[format_dropdown.selectedIndex].value;\n",
       "    fig.ondownload(fig, format);\n",
       "};\n",
       "\n",
       "mpl.figure.prototype.handle_resize = function (fig, msg) {\n",
       "    var size = msg['size'];\n",
       "    if (size[0] !== fig.canvas.width || size[1] !== fig.canvas.height) {\n",
       "        fig._resize_canvas(size[0], size[1], msg['forward']);\n",
       "        fig.send_message('refresh', {});\n",
       "    }\n",
       "};\n",
       "\n",
       "mpl.figure.prototype.handle_rubberband = function (fig, msg) {\n",
       "    var x0 = msg['x0'] / mpl.ratio;\n",
       "    var y0 = (fig.canvas.height - msg['y0']) / mpl.ratio;\n",
       "    var x1 = msg['x1'] / mpl.ratio;\n",
       "    var y1 = (fig.canvas.height - msg['y1']) / mpl.ratio;\n",
       "    x0 = Math.floor(x0) + 0.5;\n",
       "    y0 = Math.floor(y0) + 0.5;\n",
       "    x1 = Math.floor(x1) + 0.5;\n",
       "    y1 = Math.floor(y1) + 0.5;\n",
       "    var min_x = Math.min(x0, x1);\n",
       "    var min_y = Math.min(y0, y1);\n",
       "    var width = Math.abs(x1 - x0);\n",
       "    var height = Math.abs(y1 - y0);\n",
       "\n",
       "    fig.rubberband_context.clearRect(\n",
       "        0,\n",
       "        0,\n",
       "        fig.canvas.width / mpl.ratio,\n",
       "        fig.canvas.height / mpl.ratio\n",
       "    );\n",
       "\n",
       "    fig.rubberband_context.strokeRect(min_x, min_y, width, height);\n",
       "};\n",
       "\n",
       "mpl.figure.prototype.handle_figure_label = function (fig, msg) {\n",
       "    // Updates the figure title.\n",
       "    fig.header.textContent = msg['label'];\n",
       "};\n",
       "\n",
       "mpl.figure.prototype.handle_cursor = function (fig, msg) {\n",
       "    var cursor = msg['cursor'];\n",
       "    switch (cursor) {\n",
       "        case 0:\n",
       "            cursor = 'pointer';\n",
       "            break;\n",
       "        case 1:\n",
       "            cursor = 'default';\n",
       "            break;\n",
       "        case 2:\n",
       "            cursor = 'crosshair';\n",
       "            break;\n",
       "        case 3:\n",
       "            cursor = 'move';\n",
       "            break;\n",
       "    }\n",
       "    fig.rubberband_canvas.style.cursor = cursor;\n",
       "};\n",
       "\n",
       "mpl.figure.prototype.handle_message = function (fig, msg) {\n",
       "    fig.message.textContent = msg['message'];\n",
       "};\n",
       "\n",
       "mpl.figure.prototype.handle_draw = function (fig, _msg) {\n",
       "    // Request the server to send over a new figure.\n",
       "    fig.send_draw_message();\n",
       "};\n",
       "\n",
       "mpl.figure.prototype.handle_image_mode = function (fig, msg) {\n",
       "    fig.image_mode = msg['mode'];\n",
       "};\n",
       "\n",
       "mpl.figure.prototype.handle_history_buttons = function (fig, msg) {\n",
       "    for (var key in msg) {\n",
       "        if (!(key in fig.buttons)) {\n",
       "            continue;\n",
       "        }\n",
       "        fig.buttons[key].disabled = !msg[key];\n",
       "        fig.buttons[key].setAttribute('aria-disabled', !msg[key]);\n",
       "    }\n",
       "};\n",
       "\n",
       "mpl.figure.prototype.handle_navigate_mode = function (fig, msg) {\n",
       "    if (msg['mode'] === 'PAN') {\n",
       "        fig.buttons['Pan'].classList.add('active');\n",
       "        fig.buttons['Zoom'].classList.remove('active');\n",
       "    } else if (msg['mode'] === 'ZOOM') {\n",
       "        fig.buttons['Pan'].classList.remove('active');\n",
       "        fig.buttons['Zoom'].classList.add('active');\n",
       "    } else {\n",
       "        fig.buttons['Pan'].classList.remove('active');\n",
       "        fig.buttons['Zoom'].classList.remove('active');\n",
       "    }\n",
       "};\n",
       "\n",
       "mpl.figure.prototype.updated_canvas_event = function () {\n",
       "    // Called whenever the canvas gets updated.\n",
       "    this.send_message('ack', {});\n",
       "};\n",
       "\n",
       "// A function to construct a web socket function for onmessage handling.\n",
       "// Called in the figure constructor.\n",
       "mpl.figure.prototype._make_on_message_function = function (fig) {\n",
       "    return function socket_on_message(evt) {\n",
       "        if (evt.data instanceof Blob) {\n",
       "            /* FIXME: We get \"Resource interpreted as Image but\n",
       "             * transferred with MIME type text/plain:\" errors on\n",
       "             * Chrome.  But how to set the MIME type?  It doesn't seem\n",
       "             * to be part of the websocket stream */\n",
       "            evt.data.type = 'image/png';\n",
       "\n",
       "            /* Free the memory for the previous frames */\n",
       "            if (fig.imageObj.src) {\n",
       "                (window.URL || window.webkitURL).revokeObjectURL(\n",
       "                    fig.imageObj.src\n",
       "                );\n",
       "            }\n",
       "\n",
       "            fig.imageObj.src = (window.URL || window.webkitURL).createObjectURL(\n",
       "                evt.data\n",
       "            );\n",
       "            fig.updated_canvas_event();\n",
       "            fig.waiting = false;\n",
       "            return;\n",
       "        } else if (\n",
       "            typeof evt.data === 'string' &&\n",
       "            evt.data.slice(0, 21) === 'data:image/png;base64'\n",
       "        ) {\n",
       "            fig.imageObj.src = evt.data;\n",
       "            fig.updated_canvas_event();\n",
       "            fig.waiting = false;\n",
       "            return;\n",
       "        }\n",
       "\n",
       "        var msg = JSON.parse(evt.data);\n",
       "        var msg_type = msg['type'];\n",
       "\n",
       "        // Call the  \"handle_{type}\" callback, which takes\n",
       "        // the figure and JSON message as its only arguments.\n",
       "        try {\n",
       "            var callback = fig['handle_' + msg_type];\n",
       "        } catch (e) {\n",
       "            console.log(\n",
       "                \"No handler for the '\" + msg_type + \"' message type: \",\n",
       "                msg\n",
       "            );\n",
       "            return;\n",
       "        }\n",
       "\n",
       "        if (callback) {\n",
       "            try {\n",
       "                // console.log(\"Handling '\" + msg_type + \"' message: \", msg);\n",
       "                callback(fig, msg);\n",
       "            } catch (e) {\n",
       "                console.log(\n",
       "                    \"Exception inside the 'handler_\" + msg_type + \"' callback:\",\n",
       "                    e,\n",
       "                    e.stack,\n",
       "                    msg\n",
       "                );\n",
       "            }\n",
       "        }\n",
       "    };\n",
       "};\n",
       "\n",
       "// from http://stackoverflow.com/questions/1114465/getting-mouse-location-in-canvas\n",
       "mpl.findpos = function (e) {\n",
       "    //this section is from http://www.quirksmode.org/js/events_properties.html\n",
       "    var targ;\n",
       "    if (!e) {\n",
       "        e = window.event;\n",
       "    }\n",
       "    if (e.target) {\n",
       "        targ = e.target;\n",
       "    } else if (e.srcElement) {\n",
       "        targ = e.srcElement;\n",
       "    }\n",
       "    if (targ.nodeType === 3) {\n",
       "        // defeat Safari bug\n",
       "        targ = targ.parentNode;\n",
       "    }\n",
       "\n",
       "    // pageX,Y are the mouse positions relative to the document\n",
       "    var boundingRect = targ.getBoundingClientRect();\n",
       "    var x = e.pageX - (boundingRect.left + document.body.scrollLeft);\n",
       "    var y = e.pageY - (boundingRect.top + document.body.scrollTop);\n",
       "\n",
       "    return { x: x, y: y };\n",
       "};\n",
       "\n",
       "/*\n",
       " * return a copy of an object with only non-object keys\n",
       " * we need this to avoid circular references\n",
       " * http://stackoverflow.com/a/24161582/3208463\n",
       " */\n",
       "function simpleKeys(original) {\n",
       "    return Object.keys(original).reduce(function (obj, key) {\n",
       "        if (typeof original[key] !== 'object') {\n",
       "            obj[key] = original[key];\n",
       "        }\n",
       "        return obj;\n",
       "    }, {});\n",
       "}\n",
       "\n",
       "mpl.figure.prototype.mouse_event = function (event, name) {\n",
       "    var canvas_pos = mpl.findpos(event);\n",
       "\n",
       "    if (name === 'button_press') {\n",
       "        this.canvas.focus();\n",
       "        this.canvas_div.focus();\n",
       "    }\n",
       "\n",
       "    var x = canvas_pos.x * mpl.ratio;\n",
       "    var y = canvas_pos.y * mpl.ratio;\n",
       "\n",
       "    this.send_message(name, {\n",
       "        x: x,\n",
       "        y: y,\n",
       "        button: event.button,\n",
       "        step: event.step,\n",
       "        guiEvent: simpleKeys(event),\n",
       "    });\n",
       "\n",
       "    /* This prevents the web browser from automatically changing to\n",
       "     * the text insertion cursor when the button is pressed.  We want\n",
       "     * to control all of the cursor setting manually through the\n",
       "     * 'cursor' event from matplotlib */\n",
       "    event.preventDefault();\n",
       "    return false;\n",
       "};\n",
       "\n",
       "mpl.figure.prototype._key_event_extra = function (_event, _name) {\n",
       "    // Handle any extra behaviour associated with a key event\n",
       "};\n",
       "\n",
       "mpl.figure.prototype.key_event = function (event, name) {\n",
       "    // Prevent repeat events\n",
       "    if (name === 'key_press') {\n",
       "        if (event.which === this._key) {\n",
       "            return;\n",
       "        } else {\n",
       "            this._key = event.which;\n",
       "        }\n",
       "    }\n",
       "    if (name === 'key_release') {\n",
       "        this._key = null;\n",
       "    }\n",
       "\n",
       "    var value = '';\n",
       "    if (event.ctrlKey && event.which !== 17) {\n",
       "        value += 'ctrl+';\n",
       "    }\n",
       "    if (event.altKey && event.which !== 18) {\n",
       "        value += 'alt+';\n",
       "    }\n",
       "    if (event.shiftKey && event.which !== 16) {\n",
       "        value += 'shift+';\n",
       "    }\n",
       "\n",
       "    value += 'k';\n",
       "    value += event.which.toString();\n",
       "\n",
       "    this._key_event_extra(event, name);\n",
       "\n",
       "    this.send_message(name, { key: value, guiEvent: simpleKeys(event) });\n",
       "    return false;\n",
       "};\n",
       "\n",
       "mpl.figure.prototype.toolbar_button_onclick = function (name) {\n",
       "    if (name === 'download') {\n",
       "        this.handle_save(this, null);\n",
       "    } else {\n",
       "        this.send_message('toolbar_button', { name: name });\n",
       "    }\n",
       "};\n",
       "\n",
       "mpl.figure.prototype.toolbar_button_onmouseover = function (tooltip) {\n",
       "    this.message.textContent = tooltip;\n",
       "};\n",
       "mpl.toolbar_items = [[\"Home\", \"Reset original view\", \"fa fa-home icon-home\", \"home\"], [\"Back\", \"Back to previous view\", \"fa fa-arrow-left icon-arrow-left\", \"back\"], [\"Forward\", \"Forward to next view\", \"fa fa-arrow-right icon-arrow-right\", \"forward\"], [\"\", \"\", \"\", \"\"], [\"Pan\", \"Left button pans, Right button zooms\\nx/y fixes axis, CTRL fixes aspect\", \"fa fa-arrows icon-move\", \"pan\"], [\"Zoom\", \"Zoom to rectangle\\nx/y fixes axis, CTRL fixes aspect\", \"fa fa-square-o icon-check-empty\", \"zoom\"], [\"\", \"\", \"\", \"\"], [\"Download\", \"Download plot\", \"fa fa-floppy-o icon-save\", \"download\"]];\n",
       "\n",
       "mpl.extensions = [\"eps\", \"jpeg\", \"pdf\", \"png\", \"ps\", \"raw\", \"svg\", \"tif\"];\n",
       "\n",
       "mpl.default_extension = \"png\";/* global mpl */\n",
       "\n",
       "var comm_websocket_adapter = function (comm) {\n",
       "    // Create a \"websocket\"-like object which calls the given IPython comm\n",
       "    // object with the appropriate methods. Currently this is a non binary\n",
       "    // socket, so there is still some room for performance tuning.\n",
       "    var ws = {};\n",
       "\n",
       "    ws.close = function () {\n",
       "        comm.close();\n",
       "    };\n",
       "    ws.send = function (m) {\n",
       "        //console.log('sending', m);\n",
       "        comm.send(m);\n",
       "    };\n",
       "    // Register the callback with on_msg.\n",
       "    comm.on_msg(function (msg) {\n",
       "        //console.log('receiving', msg['content']['data'], msg);\n",
       "        // Pass the mpl event to the overridden (by mpl) onmessage function.\n",
       "        ws.onmessage(msg['content']['data']);\n",
       "    });\n",
       "    return ws;\n",
       "};\n",
       "\n",
       "mpl.mpl_figure_comm = function (comm, msg) {\n",
       "    // This is the function which gets called when the mpl process\n",
       "    // starts-up an IPython Comm through the \"matplotlib\" channel.\n",
       "\n",
       "    var id = msg.content.data.id;\n",
       "    // Get hold of the div created by the display call when the Comm\n",
       "    // socket was opened in Python.\n",
       "    var element = document.getElementById(id);\n",
       "    var ws_proxy = comm_websocket_adapter(comm);\n",
       "\n",
       "    function ondownload(figure, _format) {\n",
       "        window.open(figure.canvas.toDataURL());\n",
       "    }\n",
       "\n",
       "    var fig = new mpl.figure(id, ws_proxy, ondownload, element);\n",
       "\n",
       "    // Call onopen now - mpl needs it, as it is assuming we've passed it a real\n",
       "    // web socket which is closed, not our websocket->open comm proxy.\n",
       "    ws_proxy.onopen();\n",
       "\n",
       "    fig.parent_element = element;\n",
       "    fig.cell_info = mpl.find_output_cell(\"<div id='\" + id + \"'></div>\");\n",
       "    if (!fig.cell_info) {\n",
       "        console.error('Failed to find cell for figure', id, fig);\n",
       "        return;\n",
       "    }\n",
       "};\n",
       "\n",
       "mpl.figure.prototype.handle_close = function (fig, msg) {\n",
       "    var width = fig.canvas.width / mpl.ratio;\n",
       "    fig.root.removeEventListener('remove', this._remove_fig_handler);\n",
       "\n",
       "    // Update the output cell to use the data from the current canvas.\n",
       "    fig.push_to_output();\n",
       "    var dataURL = fig.canvas.toDataURL();\n",
       "    // Re-enable the keyboard manager in IPython - without this line, in FF,\n",
       "    // the notebook keyboard shortcuts fail.\n",
       "    IPython.keyboard_manager.enable();\n",
       "    fig.parent_element.innerHTML =\n",
       "        '<img src=\"' + dataURL + '\" width=\"' + width + '\">';\n",
       "    fig.close_ws(fig, msg);\n",
       "};\n",
       "\n",
       "mpl.figure.prototype.close_ws = function (fig, msg) {\n",
       "    fig.send_message('closing', msg);\n",
       "    // fig.ws.close()\n",
       "};\n",
       "\n",
       "mpl.figure.prototype.push_to_output = function (_remove_interactive) {\n",
       "    // Turn the data on the canvas into data in the output cell.\n",
       "    var width = this.canvas.width / mpl.ratio;\n",
       "    var dataURL = this.canvas.toDataURL();\n",
       "    this.cell_info[1]['text/html'] =\n",
       "        '<img src=\"' + dataURL + '\" width=\"' + width + '\">';\n",
       "};\n",
       "\n",
       "mpl.figure.prototype.updated_canvas_event = function () {\n",
       "    // Tell IPython that the notebook contents must change.\n",
       "    IPython.notebook.set_dirty(true);\n",
       "    this.send_message('ack', {});\n",
       "    var fig = this;\n",
       "    // Wait a second, then push the new image to the DOM so\n",
       "    // that it is saved nicely (might be nice to debounce this).\n",
       "    setTimeout(function () {\n",
       "        fig.push_to_output();\n",
       "    }, 1000);\n",
       "};\n",
       "\n",
       "mpl.figure.prototype._init_toolbar = function () {\n",
       "    var fig = this;\n",
       "\n",
       "    var toolbar = document.createElement('div');\n",
       "    toolbar.classList = 'btn-toolbar';\n",
       "    this.root.appendChild(toolbar);\n",
       "\n",
       "    function on_click_closure(name) {\n",
       "        return function (_event) {\n",
       "            return fig.toolbar_button_onclick(name);\n",
       "        };\n",
       "    }\n",
       "\n",
       "    function on_mouseover_closure(tooltip) {\n",
       "        return function (event) {\n",
       "            if (!event.currentTarget.disabled) {\n",
       "                return fig.toolbar_button_onmouseover(tooltip);\n",
       "            }\n",
       "        };\n",
       "    }\n",
       "\n",
       "    fig.buttons = {};\n",
       "    var buttonGroup = document.createElement('div');\n",
       "    buttonGroup.classList = 'btn-group';\n",
       "    var button;\n",
       "    for (var toolbar_ind in mpl.toolbar_items) {\n",
       "        var name = mpl.toolbar_items[toolbar_ind][0];\n",
       "        var tooltip = mpl.toolbar_items[toolbar_ind][1];\n",
       "        var image = mpl.toolbar_items[toolbar_ind][2];\n",
       "        var method_name = mpl.toolbar_items[toolbar_ind][3];\n",
       "\n",
       "        if (!name) {\n",
       "            /* Instead of a spacer, we start a new button group. */\n",
       "            if (buttonGroup.hasChildNodes()) {\n",
       "                toolbar.appendChild(buttonGroup);\n",
       "            }\n",
       "            buttonGroup = document.createElement('div');\n",
       "            buttonGroup.classList = 'btn-group';\n",
       "            continue;\n",
       "        }\n",
       "\n",
       "        button = fig.buttons[name] = document.createElement('button');\n",
       "        button.classList = 'btn btn-default';\n",
       "        button.href = '#';\n",
       "        button.title = name;\n",
       "        button.innerHTML = '<i class=\"fa ' + image + ' fa-lg\"></i>';\n",
       "        button.addEventListener('click', on_click_closure(method_name));\n",
       "        button.addEventListener('mouseover', on_mouseover_closure(tooltip));\n",
       "        buttonGroup.appendChild(button);\n",
       "    }\n",
       "\n",
       "    if (buttonGroup.hasChildNodes()) {\n",
       "        toolbar.appendChild(buttonGroup);\n",
       "    }\n",
       "\n",
       "    // Add the status bar.\n",
       "    var status_bar = document.createElement('span');\n",
       "    status_bar.classList = 'mpl-message pull-right';\n",
       "    toolbar.appendChild(status_bar);\n",
       "    this.message = status_bar;\n",
       "\n",
       "    // Add the close button to the window.\n",
       "    var buttongrp = document.createElement('div');\n",
       "    buttongrp.classList = 'btn-group inline pull-right';\n",
       "    button = document.createElement('button');\n",
       "    button.classList = 'btn btn-mini btn-primary';\n",
       "    button.href = '#';\n",
       "    button.title = 'Stop Interaction';\n",
       "    button.innerHTML = '<i class=\"fa fa-power-off icon-remove icon-large\"></i>';\n",
       "    button.addEventListener('click', function (_evt) {\n",
       "        fig.handle_close(fig, {});\n",
       "    });\n",
       "    button.addEventListener(\n",
       "        'mouseover',\n",
       "        on_mouseover_closure('Stop Interaction')\n",
       "    );\n",
       "    buttongrp.appendChild(button);\n",
       "    var titlebar = this.root.querySelector('.ui-dialog-titlebar');\n",
       "    titlebar.insertBefore(buttongrp, titlebar.firstChild);\n",
       "};\n",
       "\n",
       "mpl.figure.prototype._remove_fig_handler = function () {\n",
       "    this.close_ws(this, {});\n",
       "};\n",
       "\n",
       "mpl.figure.prototype._root_extra_style = function (el) {\n",
       "    el.style.boxSizing = 'content-box'; // override notebook setting of border-box.\n",
       "    el.addEventListener('remove', this._remove_fig_handler);\n",
       "};\n",
       "\n",
       "mpl.figure.prototype._canvas_extra_style = function (el) {\n",
       "    // this is important to make the div 'focusable\n",
       "    el.setAttribute('tabindex', 0);\n",
       "    // reach out to IPython and tell the keyboard manager to turn it's self\n",
       "    // off when our div gets focus\n",
       "\n",
       "    // location in version 3\n",
       "    if (IPython.notebook.keyboard_manager) {\n",
       "        IPython.notebook.keyboard_manager.register_events(el);\n",
       "    } else {\n",
       "        // location in version 2\n",
       "        IPython.keyboard_manager.register_events(el);\n",
       "    }\n",
       "};\n",
       "\n",
       "mpl.figure.prototype._key_event_extra = function (event, _name) {\n",
       "    var manager = IPython.notebook.keyboard_manager;\n",
       "    if (!manager) {\n",
       "        manager = IPython.keyboard_manager;\n",
       "    }\n",
       "\n",
       "    // Check for shift+enter\n",
       "    if (event.shiftKey && event.which === 13) {\n",
       "        this.canvas_div.blur();\n",
       "        // select the cell after this one\n",
       "        var index = IPython.notebook.find_cell_index(this.cell_info[0]);\n",
       "        IPython.notebook.select(index + 1);\n",
       "    }\n",
       "};\n",
       "\n",
       "mpl.figure.prototype.handle_save = function (fig, _msg) {\n",
       "    fig.ondownload(fig, null);\n",
       "};\n",
       "\n",
       "mpl.find_output_cell = function (html_output) {\n",
       "    // Return the cell and output element which can be found *uniquely* in the notebook.\n",
       "    // Note - this is a bit hacky, but it is done because the \"notebook_saving.Notebook\"\n",
       "    // IPython event is triggered only after the cells have been serialised, which for\n",
       "    // our purposes (turning an active figure into a static one), is too late.\n",
       "    var cells = IPython.notebook.get_cells();\n",
       "    var ncells = cells.length;\n",
       "    for (var i = 0; i < ncells; i++) {\n",
       "        var cell = cells[i];\n",
       "        if (cell.cell_type === 'code') {\n",
       "            for (var j = 0; j < cell.output_area.outputs.length; j++) {\n",
       "                var data = cell.output_area.outputs[j];\n",
       "                if (data.data) {\n",
       "                    // IPython >= 3 moved mimebundle to data attribute of output\n",
       "                    data = data.data;\n",
       "                }\n",
       "                if (data['text/html'] === html_output) {\n",
       "                    return [cell, data, j];\n",
       "                }\n",
       "            }\n",
       "        }\n",
       "    }\n",
       "};\n",
       "\n",
       "// Register the function which deals with the matplotlib target/channel.\n",
       "// The kernel may be null if the page has been refreshed.\n",
       "if (IPython.notebook.kernel !== null) {\n",
       "    IPython.notebook.kernel.comm_manager.register_target(\n",
       "        'matplotlib',\n",
       "        mpl.mpl_figure_comm\n",
       "    );\n",
       "}\n"
      ],
      "text/plain": [
       "<IPython.core.display.Javascript object>"
      ]
     },
     "metadata": {},
     "output_type": "display_data"
    },
    {
     "data": {
      "text/html": [
       "<img src=\"data:image/png;base64,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\" width=\"640\">"
      ],
      "text/plain": [
       "<IPython.core.display.HTML object>"
      ]
     },
     "metadata": {},
     "output_type": "display_data"
    },
    {
     "data": {
      "text/plain": [
       "<matplotlib.image.AxesImage at 0x7f1b3115d198>"
      ]
     },
     "execution_count": 44,
     "metadata": {},
     "output_type": "execute_result"
    }
   ],
   "source": [
    "%matplotlib notebook\n",
    "import matplotlib.pyplot as plt\n",
    "import random\n",
    "\n",
    "plt.imshow(X[random.randint(0, X.shape[0])].reshape(28, 28), cmap='gray')"
   ]
  },
  {
   "cell_type": "markdown",
   "metadata": {},
   "source": [
    "For later usage, we need to first seperate the dataset into two disjoint set: training set and testing set. We simply choose the first `60000` images as the training set. (Generally we need to first shuffle the data before splitting them.)"
   ]
  },
  {
   "cell_type": "code",
   "execution_count": 45,
   "metadata": {},
   "outputs": [],
   "source": [
    "# rescale the data, use the traditional train/test split\n",
    "X_train, X_test = X[:60000], X[60000:]\n",
    "y_train, y_test = y[:60000], y[60000:]"
   ]
  },
  {
   "cell_type": "markdown",
   "metadata": {},
   "source": [
    "Define a MLP by sklearn, which contains only $1$ hidden layer with $50$ hidden units. _SGD_ is our optimizer, with learning rate $0.0001$."
   ]
  },
  {
   "cell_type": "code",
   "execution_count": 46,
   "metadata": {},
   "outputs": [],
   "source": [
    "from sklearn.neural_network import MLPClassifier\n",
    "\n",
    "mlp = MLPClassifier(hidden_layer_sizes=(50,), max_iter=10, alpha=1e-4,\n",
    "                    solver='sgd', verbose=10, random_state=1,\n",
    "                    learning_rate_init=.1)"
   ]
  },
  {
   "cell_type": "markdown",
   "metadata": {},
   "source": [
    "We call `fit` with training data to let the mlp learn from them. Some warnings are supressed."
   ]
  },
  {
   "cell_type": "code",
   "execution_count": 47,
   "metadata": {},
   "outputs": [
    {
     "name": "stdout",
     "output_type": "stream",
     "text": [
      "Iteration 1, loss = 0.32009978\n",
      "Iteration 2, loss = 0.15347534\n",
      "Iteration 3, loss = 0.11544755\n",
      "Iteration 4, loss = 0.09279764\n",
      "Iteration 5, loss = 0.07889367\n",
      "Iteration 6, loss = 0.07170497\n",
      "Iteration 7, loss = 0.06282111\n",
      "Iteration 8, loss = 0.05530788\n",
      "Iteration 9, loss = 0.04960484\n",
      "Iteration 10, loss = 0.04645355\n"
     ]
    }
   ],
   "source": [
    "import warnings\n",
    "from sklearn.exceptions import ConvergenceWarning\n",
    "\n",
    "with warnings.catch_warnings():\n",
    "    warnings.filterwarnings(\"ignore\", category=ConvergenceWarning,\n",
    "                            module=\"sklearn\")\n",
    "    mlp.fit(X_train, y_train)"
   ]
  },
  {
   "cell_type": "markdown",
   "metadata": {},
   "source": [
    "After training, we wanna know the accuracy of the trainning set and testing set by simply calling `sorce` with data."
   ]
  },
  {
   "cell_type": "code",
   "execution_count": 48,
   "metadata": {},
   "outputs": [
    {
     "name": "stdout",
     "output_type": "stream",
     "text": [
      "Training set score: 0.986800\n",
      "Test set score: 0.970000\n"
     ]
    }
   ],
   "source": [
    "print(\"Training set score: %f\" % mlp.score(X_train, y_train))\n",
    "print(\"Test set score: %f\" % mlp.score(X_test, y_test))"
   ]
  },
  {
   "cell_type": "markdown",
   "metadata": {},
   "source": [
    "Further, if u are intreseted, we can show the weights of the first 15 hidden layers to figure out what has the mlp learnt."
   ]
  },
  {
   "cell_type": "code",
   "execution_count": 49,
   "metadata": {},
   "outputs": [
    {
     "data": {
      "application/javascript": [
       "/* Put everything inside the global mpl namespace */\n",
       "/* global mpl */\n",
       "window.mpl = {};\n",
       "\n",
       "mpl.get_websocket_type = function () {\n",
       "    if (typeof WebSocket !== 'undefined') {\n",
       "        return WebSocket;\n",
       "    } else if (typeof MozWebSocket !== 'undefined') {\n",
       "        return MozWebSocket;\n",
       "    } else {\n",
       "        alert(\n",
       "            'Your browser does not have WebSocket support. ' +\n",
       "                'Please try Chrome, Safari or Firefox ≥ 6. ' +\n",
       "                'Firefox 4 and 5 are also supported but you ' +\n",
       "                'have to enable WebSockets in about:config.'\n",
       "        );\n",
       "    }\n",
       "};\n",
       "\n",
       "mpl.figure = function (figure_id, websocket, ondownload, parent_element) {\n",
       "    this.id = figure_id;\n",
       "\n",
       "    this.ws = websocket;\n",
       "\n",
       "    this.supports_binary = this.ws.binaryType !== undefined;\n",
       "\n",
       "    if (!this.supports_binary) {\n",
       "        var warnings = document.getElementById('mpl-warnings');\n",
       "        if (warnings) {\n",
       "            warnings.style.display = 'block';\n",
       "            warnings.textContent =\n",
       "                'This browser does not support binary websocket messages. ' +\n",
       "                'Performance may be slow.';\n",
       "        }\n",
       "    }\n",
       "\n",
       "    this.imageObj = new Image();\n",
       "\n",
       "    this.context = undefined;\n",
       "    this.message = undefined;\n",
       "    this.canvas = undefined;\n",
       "    this.rubberband_canvas = undefined;\n",
       "    this.rubberband_context = undefined;\n",
       "    this.format_dropdown = undefined;\n",
       "\n",
       "    this.image_mode = 'full';\n",
       "\n",
       "    this.root = document.createElement('div');\n",
       "    this.root.setAttribute('style', 'display: inline-block');\n",
       "    this._root_extra_style(this.root);\n",
       "\n",
       "    parent_element.appendChild(this.root);\n",
       "\n",
       "    this._init_header(this);\n",
       "    this._init_canvas(this);\n",
       "    this._init_toolbar(this);\n",
       "\n",
       "    var fig = this;\n",
       "\n",
       "    this.waiting = false;\n",
       "\n",
       "    this.ws.onopen = function () {\n",
       "        fig.send_message('supports_binary', { value: fig.supports_binary });\n",
       "        fig.send_message('send_image_mode', {});\n",
       "        if (mpl.ratio !== 1) {\n",
       "            fig.send_message('set_dpi_ratio', { dpi_ratio: mpl.ratio });\n",
       "        }\n",
       "        fig.send_message('refresh', {});\n",
       "    };\n",
       "\n",
       "    this.imageObj.onload = function () {\n",
       "        if (fig.image_mode === 'full') {\n",
       "            // Full images could contain transparency (where diff images\n",
       "            // almost always do), so we need to clear the canvas so that\n",
       "            // there is no ghosting.\n",
       "            fig.context.clearRect(0, 0, fig.canvas.width, fig.canvas.height);\n",
       "        }\n",
       "        fig.context.drawImage(fig.imageObj, 0, 0);\n",
       "    };\n",
       "\n",
       "    this.imageObj.onunload = function () {\n",
       "        fig.ws.close();\n",
       "    };\n",
       "\n",
       "    this.ws.onmessage = this._make_on_message_function(this);\n",
       "\n",
       "    this.ondownload = ondownload;\n",
       "};\n",
       "\n",
       "mpl.figure.prototype._init_header = function () {\n",
       "    var titlebar = document.createElement('div');\n",
       "    titlebar.classList =\n",
       "        'ui-dialog-titlebar ui-widget-header ui-corner-all ui-helper-clearfix';\n",
       "    var titletext = document.createElement('div');\n",
       "    titletext.classList = 'ui-dialog-title';\n",
       "    titletext.setAttribute(\n",
       "        'style',\n",
       "        'width: 100%; text-align: center; padding: 3px;'\n",
       "    );\n",
       "    titlebar.appendChild(titletext);\n",
       "    this.root.appendChild(titlebar);\n",
       "    this.header = titletext;\n",
       "};\n",
       "\n",
       "mpl.figure.prototype._canvas_extra_style = function (_canvas_div) {};\n",
       "\n",
       "mpl.figure.prototype._root_extra_style = function (_canvas_div) {};\n",
       "\n",
       "mpl.figure.prototype._init_canvas = function () {\n",
       "    var fig = this;\n",
       "\n",
       "    var canvas_div = (this.canvas_div = document.createElement('div'));\n",
       "    canvas_div.setAttribute(\n",
       "        'style',\n",
       "        'border: 1px solid #ddd;' +\n",
       "            'box-sizing: content-box;' +\n",
       "            'clear: both;' +\n",
       "            'min-height: 1px;' +\n",
       "            'min-width: 1px;' +\n",
       "            'outline: 0;' +\n",
       "            'overflow: hidden;' +\n",
       "            'position: relative;' +\n",
       "            'resize: both;'\n",
       "    );\n",
       "\n",
       "    function on_keyboard_event_closure(name) {\n",
       "        return function (event) {\n",
       "            return fig.key_event(event, name);\n",
       "        };\n",
       "    }\n",
       "\n",
       "    canvas_div.addEventListener(\n",
       "        'keydown',\n",
       "        on_keyboard_event_closure('key_press')\n",
       "    );\n",
       "    canvas_div.addEventListener(\n",
       "        'keyup',\n",
       "        on_keyboard_event_closure('key_release')\n",
       "    );\n",
       "\n",
       "    this._canvas_extra_style(canvas_div);\n",
       "    this.root.appendChild(canvas_div);\n",
       "\n",
       "    var canvas = (this.canvas = document.createElement('canvas'));\n",
       "    canvas.classList.add('mpl-canvas');\n",
       "    canvas.setAttribute('style', 'box-sizing: content-box;');\n",
       "\n",
       "    this.context = canvas.getContext('2d');\n",
       "\n",
       "    var backingStore =\n",
       "        this.context.backingStorePixelRatio ||\n",
       "        this.context.webkitBackingStorePixelRatio ||\n",
       "        this.context.mozBackingStorePixelRatio ||\n",
       "        this.context.msBackingStorePixelRatio ||\n",
       "        this.context.oBackingStorePixelRatio ||\n",
       "        this.context.backingStorePixelRatio ||\n",
       "        1;\n",
       "\n",
       "    mpl.ratio = (window.devicePixelRatio || 1) / backingStore;\n",
       "\n",
       "    var rubberband_canvas = (this.rubberband_canvas = document.createElement(\n",
       "        'canvas'\n",
       "    ));\n",
       "    rubberband_canvas.setAttribute(\n",
       "        'style',\n",
       "        'box-sizing: content-box; position: absolute; left: 0; top: 0; z-index: 1;'\n",
       "    );\n",
       "\n",
       "    var resizeObserver = new ResizeObserver(function (entries) {\n",
       "        var nentries = entries.length;\n",
       "        for (var i = 0; i < nentries; i++) {\n",
       "            var entry = entries[i];\n",
       "            var width, height;\n",
       "            if (entry.contentBoxSize) {\n",
       "                if (entry.contentBoxSize instanceof Array) {\n",
       "                    // Chrome 84 implements new version of spec.\n",
       "                    width = entry.contentBoxSize[0].inlineSize;\n",
       "                    height = entry.contentBoxSize[0].blockSize;\n",
       "                } else {\n",
       "                    // Firefox implements old version of spec.\n",
       "                    width = entry.contentBoxSize.inlineSize;\n",
       "                    height = entry.contentBoxSize.blockSize;\n",
       "                }\n",
       "            } else {\n",
       "                // Chrome <84 implements even older version of spec.\n",
       "                width = entry.contentRect.width;\n",
       "                height = entry.contentRect.height;\n",
       "            }\n",
       "\n",
       "            // Keep the size of the canvas and rubber band canvas in sync with\n",
       "            // the canvas container.\n",
       "            if (entry.devicePixelContentBoxSize) {\n",
       "                // Chrome 84 implements new version of spec.\n",
       "                canvas.setAttribute(\n",
       "                    'width',\n",
       "                    entry.devicePixelContentBoxSize[0].inlineSize\n",
       "                );\n",
       "                canvas.setAttribute(\n",
       "                    'height',\n",
       "                    entry.devicePixelContentBoxSize[0].blockSize\n",
       "                );\n",
       "            } else {\n",
       "                canvas.setAttribute('width', width * mpl.ratio);\n",
       "                canvas.setAttribute('height', height * mpl.ratio);\n",
       "            }\n",
       "            canvas.setAttribute(\n",
       "                'style',\n",
       "                'width: ' + width + 'px; height: ' + height + 'px;'\n",
       "            );\n",
       "\n",
       "            rubberband_canvas.setAttribute('width', width);\n",
       "            rubberband_canvas.setAttribute('height', height);\n",
       "\n",
       "            // And update the size in Python. We ignore the initial 0/0 size\n",
       "            // that occurs as the element is placed into the DOM, which should\n",
       "            // otherwise not happen due to the minimum size styling.\n",
       "            if (width != 0 && height != 0) {\n",
       "                fig.request_resize(width, height);\n",
       "            }\n",
       "        }\n",
       "    });\n",
       "    resizeObserver.observe(canvas_div);\n",
       "\n",
       "    function on_mouse_event_closure(name) {\n",
       "        return function (event) {\n",
       "            return fig.mouse_event(event, name);\n",
       "        };\n",
       "    }\n",
       "\n",
       "    rubberband_canvas.addEventListener(\n",
       "        'mousedown',\n",
       "        on_mouse_event_closure('button_press')\n",
       "    );\n",
       "    rubberband_canvas.addEventListener(\n",
       "        'mouseup',\n",
       "        on_mouse_event_closure('button_release')\n",
       "    );\n",
       "    // Throttle sequential mouse events to 1 every 20ms.\n",
       "    rubberband_canvas.addEventListener(\n",
       "        'mousemove',\n",
       "        on_mouse_event_closure('motion_notify')\n",
       "    );\n",
       "\n",
       "    rubberband_canvas.addEventListener(\n",
       "        'mouseenter',\n",
       "        on_mouse_event_closure('figure_enter')\n",
       "    );\n",
       "    rubberband_canvas.addEventListener(\n",
       "        'mouseleave',\n",
       "        on_mouse_event_closure('figure_leave')\n",
       "    );\n",
       "\n",
       "    canvas_div.addEventListener('wheel', function (event) {\n",
       "        if (event.deltaY < 0) {\n",
       "            event.step = 1;\n",
       "        } else {\n",
       "            event.step = -1;\n",
       "        }\n",
       "        on_mouse_event_closure('scroll')(event);\n",
       "    });\n",
       "\n",
       "    canvas_div.appendChild(canvas);\n",
       "    canvas_div.appendChild(rubberband_canvas);\n",
       "\n",
       "    this.rubberband_context = rubberband_canvas.getContext('2d');\n",
       "    this.rubberband_context.strokeStyle = '#000000';\n",
       "\n",
       "    this._resize_canvas = function (width, height, forward) {\n",
       "        if (forward) {\n",
       "            canvas_div.style.width = width + 'px';\n",
       "            canvas_div.style.height = height + 'px';\n",
       "        }\n",
       "    };\n",
       "\n",
       "    // Disable right mouse context menu.\n",
       "    this.rubberband_canvas.addEventListener('contextmenu', function (_e) {\n",
       "        event.preventDefault();\n",
       "        return false;\n",
       "    });\n",
       "\n",
       "    function set_focus() {\n",
       "        canvas.focus();\n",
       "        canvas_div.focus();\n",
       "    }\n",
       "\n",
       "    window.setTimeout(set_focus, 100);\n",
       "};\n",
       "\n",
       "mpl.figure.prototype._init_toolbar = function () {\n",
       "    var fig = this;\n",
       "\n",
       "    var toolbar = document.createElement('div');\n",
       "    toolbar.classList = 'mpl-toolbar';\n",
       "    this.root.appendChild(toolbar);\n",
       "\n",
       "    function on_click_closure(name) {\n",
       "        return function (_event) {\n",
       "            return fig.toolbar_button_onclick(name);\n",
       "        };\n",
       "    }\n",
       "\n",
       "    function on_mouseover_closure(tooltip) {\n",
       "        return function (event) {\n",
       "            if (!event.currentTarget.disabled) {\n",
       "                return fig.toolbar_button_onmouseover(tooltip);\n",
       "            }\n",
       "        };\n",
       "    }\n",
       "\n",
       "    fig.buttons = {};\n",
       "    var buttonGroup = document.createElement('div');\n",
       "    buttonGroup.classList = 'mpl-button-group';\n",
       "    for (var toolbar_ind in mpl.toolbar_items) {\n",
       "        var name = mpl.toolbar_items[toolbar_ind][0];\n",
       "        var tooltip = mpl.toolbar_items[toolbar_ind][1];\n",
       "        var image = mpl.toolbar_items[toolbar_ind][2];\n",
       "        var method_name = mpl.toolbar_items[toolbar_ind][3];\n",
       "\n",
       "        if (!name) {\n",
       "            /* Instead of a spacer, we start a new button group. */\n",
       "            if (buttonGroup.hasChildNodes()) {\n",
       "                toolbar.appendChild(buttonGroup);\n",
       "            }\n",
       "            buttonGroup = document.createElement('div');\n",
       "            buttonGroup.classList = 'mpl-button-group';\n",
       "            continue;\n",
       "        }\n",
       "\n",
       "        var button = (fig.buttons[name] = document.createElement('button'));\n",
       "        button.classList = 'mpl-widget';\n",
       "        button.setAttribute('role', 'button');\n",
       "        button.setAttribute('aria-disabled', 'false');\n",
       "        button.addEventListener('click', on_click_closure(method_name));\n",
       "        button.addEventListener('mouseover', on_mouseover_closure(tooltip));\n",
       "\n",
       "        var icon_img = document.createElement('img');\n",
       "        icon_img.src = '_images/' + image + '.png';\n",
       "        icon_img.srcset = '_images/' + image + '_large.png 2x';\n",
       "        icon_img.alt = tooltip;\n",
       "        button.appendChild(icon_img);\n",
       "\n",
       "        buttonGroup.appendChild(button);\n",
       "    }\n",
       "\n",
       "    if (buttonGroup.hasChildNodes()) {\n",
       "        toolbar.appendChild(buttonGroup);\n",
       "    }\n",
       "\n",
       "    var fmt_picker = document.createElement('select');\n",
       "    fmt_picker.classList = 'mpl-widget';\n",
       "    toolbar.appendChild(fmt_picker);\n",
       "    this.format_dropdown = fmt_picker;\n",
       "\n",
       "    for (var ind in mpl.extensions) {\n",
       "        var fmt = mpl.extensions[ind];\n",
       "        var option = document.createElement('option');\n",
       "        option.selected = fmt === mpl.default_extension;\n",
       "        option.innerHTML = fmt;\n",
       "        fmt_picker.appendChild(option);\n",
       "    }\n",
       "\n",
       "    var status_bar = document.createElement('span');\n",
       "    status_bar.classList = 'mpl-message';\n",
       "    toolbar.appendChild(status_bar);\n",
       "    this.message = status_bar;\n",
       "};\n",
       "\n",
       "mpl.figure.prototype.request_resize = function (x_pixels, y_pixels) {\n",
       "    // Request matplotlib to resize the figure. Matplotlib will then trigger a resize in the client,\n",
       "    // which will in turn request a refresh of the image.\n",
       "    this.send_message('resize', { width: x_pixels, height: y_pixels });\n",
       "};\n",
       "\n",
       "mpl.figure.prototype.send_message = function (type, properties) {\n",
       "    properties['type'] = type;\n",
       "    properties['figure_id'] = this.id;\n",
       "    this.ws.send(JSON.stringify(properties));\n",
       "};\n",
       "\n",
       "mpl.figure.prototype.send_draw_message = function () {\n",
       "    if (!this.waiting) {\n",
       "        this.waiting = true;\n",
       "        this.ws.send(JSON.stringify({ type: 'draw', figure_id: this.id }));\n",
       "    }\n",
       "};\n",
       "\n",
       "mpl.figure.prototype.handle_save = function (fig, _msg) {\n",
       "    var format_dropdown = fig.format_dropdown;\n",
       "    var format = format_dropdown.options[format_dropdown.selectedIndex].value;\n",
       "    fig.ondownload(fig, format);\n",
       "};\n",
       "\n",
       "mpl.figure.prototype.handle_resize = function (fig, msg) {\n",
       "    var size = msg['size'];\n",
       "    if (size[0] !== fig.canvas.width || size[1] !== fig.canvas.height) {\n",
       "        fig._resize_canvas(size[0], size[1], msg['forward']);\n",
       "        fig.send_message('refresh', {});\n",
       "    }\n",
       "};\n",
       "\n",
       "mpl.figure.prototype.handle_rubberband = function (fig, msg) {\n",
       "    var x0 = msg['x0'] / mpl.ratio;\n",
       "    var y0 = (fig.canvas.height - msg['y0']) / mpl.ratio;\n",
       "    var x1 = msg['x1'] / mpl.ratio;\n",
       "    var y1 = (fig.canvas.height - msg['y1']) / mpl.ratio;\n",
       "    x0 = Math.floor(x0) + 0.5;\n",
       "    y0 = Math.floor(y0) + 0.5;\n",
       "    x1 = Math.floor(x1) + 0.5;\n",
       "    y1 = Math.floor(y1) + 0.5;\n",
       "    var min_x = Math.min(x0, x1);\n",
       "    var min_y = Math.min(y0, y1);\n",
       "    var width = Math.abs(x1 - x0);\n",
       "    var height = Math.abs(y1 - y0);\n",
       "\n",
       "    fig.rubberband_context.clearRect(\n",
       "        0,\n",
       "        0,\n",
       "        fig.canvas.width / mpl.ratio,\n",
       "        fig.canvas.height / mpl.ratio\n",
       "    );\n",
       "\n",
       "    fig.rubberband_context.strokeRect(min_x, min_y, width, height);\n",
       "};\n",
       "\n",
       "mpl.figure.prototype.handle_figure_label = function (fig, msg) {\n",
       "    // Updates the figure title.\n",
       "    fig.header.textContent = msg['label'];\n",
       "};\n",
       "\n",
       "mpl.figure.prototype.handle_cursor = function (fig, msg) {\n",
       "    var cursor = msg['cursor'];\n",
       "    switch (cursor) {\n",
       "        case 0:\n",
       "            cursor = 'pointer';\n",
       "            break;\n",
       "        case 1:\n",
       "            cursor = 'default';\n",
       "            break;\n",
       "        case 2:\n",
       "            cursor = 'crosshair';\n",
       "            break;\n",
       "        case 3:\n",
       "            cursor = 'move';\n",
       "            break;\n",
       "    }\n",
       "    fig.rubberband_canvas.style.cursor = cursor;\n",
       "};\n",
       "\n",
       "mpl.figure.prototype.handle_message = function (fig, msg) {\n",
       "    fig.message.textContent = msg['message'];\n",
       "};\n",
       "\n",
       "mpl.figure.prototype.handle_draw = function (fig, _msg) {\n",
       "    // Request the server to send over a new figure.\n",
       "    fig.send_draw_message();\n",
       "};\n",
       "\n",
       "mpl.figure.prototype.handle_image_mode = function (fig, msg) {\n",
       "    fig.image_mode = msg['mode'];\n",
       "};\n",
       "\n",
       "mpl.figure.prototype.handle_history_buttons = function (fig, msg) {\n",
       "    for (var key in msg) {\n",
       "        if (!(key in fig.buttons)) {\n",
       "            continue;\n",
       "        }\n",
       "        fig.buttons[key].disabled = !msg[key];\n",
       "        fig.buttons[key].setAttribute('aria-disabled', !msg[key]);\n",
       "    }\n",
       "};\n",
       "\n",
       "mpl.figure.prototype.handle_navigate_mode = function (fig, msg) {\n",
       "    if (msg['mode'] === 'PAN') {\n",
       "        fig.buttons['Pan'].classList.add('active');\n",
       "        fig.buttons['Zoom'].classList.remove('active');\n",
       "    } else if (msg['mode'] === 'ZOOM') {\n",
       "        fig.buttons['Pan'].classList.remove('active');\n",
       "        fig.buttons['Zoom'].classList.add('active');\n",
       "    } else {\n",
       "        fig.buttons['Pan'].classList.remove('active');\n",
       "        fig.buttons['Zoom'].classList.remove('active');\n",
       "    }\n",
       "};\n",
       "\n",
       "mpl.figure.prototype.updated_canvas_event = function () {\n",
       "    // Called whenever the canvas gets updated.\n",
       "    this.send_message('ack', {});\n",
       "};\n",
       "\n",
       "// A function to construct a web socket function for onmessage handling.\n",
       "// Called in the figure constructor.\n",
       "mpl.figure.prototype._make_on_message_function = function (fig) {\n",
       "    return function socket_on_message(evt) {\n",
       "        if (evt.data instanceof Blob) {\n",
       "            /* FIXME: We get \"Resource interpreted as Image but\n",
       "             * transferred with MIME type text/plain:\" errors on\n",
       "             * Chrome.  But how to set the MIME type?  It doesn't seem\n",
       "             * to be part of the websocket stream */\n",
       "            evt.data.type = 'image/png';\n",
       "\n",
       "            /* Free the memory for the previous frames */\n",
       "            if (fig.imageObj.src) {\n",
       "                (window.URL || window.webkitURL).revokeObjectURL(\n",
       "                    fig.imageObj.src\n",
       "                );\n",
       "            }\n",
       "\n",
       "            fig.imageObj.src = (window.URL || window.webkitURL).createObjectURL(\n",
       "                evt.data\n",
       "            );\n",
       "            fig.updated_canvas_event();\n",
       "            fig.waiting = false;\n",
       "            return;\n",
       "        } else if (\n",
       "            typeof evt.data === 'string' &&\n",
       "            evt.data.slice(0, 21) === 'data:image/png;base64'\n",
       "        ) {\n",
       "            fig.imageObj.src = evt.data;\n",
       "            fig.updated_canvas_event();\n",
       "            fig.waiting = false;\n",
       "            return;\n",
       "        }\n",
       "\n",
       "        var msg = JSON.parse(evt.data);\n",
       "        var msg_type = msg['type'];\n",
       "\n",
       "        // Call the  \"handle_{type}\" callback, which takes\n",
       "        // the figure and JSON message as its only arguments.\n",
       "        try {\n",
       "            var callback = fig['handle_' + msg_type];\n",
       "        } catch (e) {\n",
       "            console.log(\n",
       "                \"No handler for the '\" + msg_type + \"' message type: \",\n",
       "                msg\n",
       "            );\n",
       "            return;\n",
       "        }\n",
       "\n",
       "        if (callback) {\n",
       "            try {\n",
       "                // console.log(\"Handling '\" + msg_type + \"' message: \", msg);\n",
       "                callback(fig, msg);\n",
       "            } catch (e) {\n",
       "                console.log(\n",
       "                    \"Exception inside the 'handler_\" + msg_type + \"' callback:\",\n",
       "                    e,\n",
       "                    e.stack,\n",
       "                    msg\n",
       "                );\n",
       "            }\n",
       "        }\n",
       "    };\n",
       "};\n",
       "\n",
       "// from http://stackoverflow.com/questions/1114465/getting-mouse-location-in-canvas\n",
       "mpl.findpos = function (e) {\n",
       "    //this section is from http://www.quirksmode.org/js/events_properties.html\n",
       "    var targ;\n",
       "    if (!e) {\n",
       "        e = window.event;\n",
       "    }\n",
       "    if (e.target) {\n",
       "        targ = e.target;\n",
       "    } else if (e.srcElement) {\n",
       "        targ = e.srcElement;\n",
       "    }\n",
       "    if (targ.nodeType === 3) {\n",
       "        // defeat Safari bug\n",
       "        targ = targ.parentNode;\n",
       "    }\n",
       "\n",
       "    // pageX,Y are the mouse positions relative to the document\n",
       "    var boundingRect = targ.getBoundingClientRect();\n",
       "    var x = e.pageX - (boundingRect.left + document.body.scrollLeft);\n",
       "    var y = e.pageY - (boundingRect.top + document.body.scrollTop);\n",
       "\n",
       "    return { x: x, y: y };\n",
       "};\n",
       "\n",
       "/*\n",
       " * return a copy of an object with only non-object keys\n",
       " * we need this to avoid circular references\n",
       " * http://stackoverflow.com/a/24161582/3208463\n",
       " */\n",
       "function simpleKeys(original) {\n",
       "    return Object.keys(original).reduce(function (obj, key) {\n",
       "        if (typeof original[key] !== 'object') {\n",
       "            obj[key] = original[key];\n",
       "        }\n",
       "        return obj;\n",
       "    }, {});\n",
       "}\n",
       "\n",
       "mpl.figure.prototype.mouse_event = function (event, name) {\n",
       "    var canvas_pos = mpl.findpos(event);\n",
       "\n",
       "    if (name === 'button_press') {\n",
       "        this.canvas.focus();\n",
       "        this.canvas_div.focus();\n",
       "    }\n",
       "\n",
       "    var x = canvas_pos.x * mpl.ratio;\n",
       "    var y = canvas_pos.y * mpl.ratio;\n",
       "\n",
       "    this.send_message(name, {\n",
       "        x: x,\n",
       "        y: y,\n",
       "        button: event.button,\n",
       "        step: event.step,\n",
       "        guiEvent: simpleKeys(event),\n",
       "    });\n",
       "\n",
       "    /* This prevents the web browser from automatically changing to\n",
       "     * the text insertion cursor when the button is pressed.  We want\n",
       "     * to control all of the cursor setting manually through the\n",
       "     * 'cursor' event from matplotlib */\n",
       "    event.preventDefault();\n",
       "    return false;\n",
       "};\n",
       "\n",
       "mpl.figure.prototype._key_event_extra = function (_event, _name) {\n",
       "    // Handle any extra behaviour associated with a key event\n",
       "};\n",
       "\n",
       "mpl.figure.prototype.key_event = function (event, name) {\n",
       "    // Prevent repeat events\n",
       "    if (name === 'key_press') {\n",
       "        if (event.which === this._key) {\n",
       "            return;\n",
       "        } else {\n",
       "            this._key = event.which;\n",
       "        }\n",
       "    }\n",
       "    if (name === 'key_release') {\n",
       "        this._key = null;\n",
       "    }\n",
       "\n",
       "    var value = '';\n",
       "    if (event.ctrlKey && event.which !== 17) {\n",
       "        value += 'ctrl+';\n",
       "    }\n",
       "    if (event.altKey && event.which !== 18) {\n",
       "        value += 'alt+';\n",
       "    }\n",
       "    if (event.shiftKey && event.which !== 16) {\n",
       "        value += 'shift+';\n",
       "    }\n",
       "\n",
       "    value += 'k';\n",
       "    value += event.which.toString();\n",
       "\n",
       "    this._key_event_extra(event, name);\n",
       "\n",
       "    this.send_message(name, { key: value, guiEvent: simpleKeys(event) });\n",
       "    return false;\n",
       "};\n",
       "\n",
       "mpl.figure.prototype.toolbar_button_onclick = function (name) {\n",
       "    if (name === 'download') {\n",
       "        this.handle_save(this, null);\n",
       "    } else {\n",
       "        this.send_message('toolbar_button', { name: name });\n",
       "    }\n",
       "};\n",
       "\n",
       "mpl.figure.prototype.toolbar_button_onmouseover = function (tooltip) {\n",
       "    this.message.textContent = tooltip;\n",
       "};\n",
       "mpl.toolbar_items = [[\"Home\", \"Reset original view\", \"fa fa-home icon-home\", \"home\"], [\"Back\", \"Back to previous view\", \"fa fa-arrow-left icon-arrow-left\", \"back\"], [\"Forward\", \"Forward to next view\", \"fa fa-arrow-right icon-arrow-right\", \"forward\"], [\"\", \"\", \"\", \"\"], [\"Pan\", \"Left button pans, Right button zooms\\nx/y fixes axis, CTRL fixes aspect\", \"fa fa-arrows icon-move\", \"pan\"], [\"Zoom\", \"Zoom to rectangle\\nx/y fixes axis, CTRL fixes aspect\", \"fa fa-square-o icon-check-empty\", \"zoom\"], [\"\", \"\", \"\", \"\"], [\"Download\", \"Download plot\", \"fa fa-floppy-o icon-save\", \"download\"]];\n",
       "\n",
       "mpl.extensions = [\"eps\", \"jpeg\", \"pdf\", \"png\", \"ps\", \"raw\", \"svg\", \"tif\"];\n",
       "\n",
       "mpl.default_extension = \"png\";/* global mpl */\n",
       "\n",
       "var comm_websocket_adapter = function (comm) {\n",
       "    // Create a \"websocket\"-like object which calls the given IPython comm\n",
       "    // object with the appropriate methods. Currently this is a non binary\n",
       "    // socket, so there is still some room for performance tuning.\n",
       "    var ws = {};\n",
       "\n",
       "    ws.close = function () {\n",
       "        comm.close();\n",
       "    };\n",
       "    ws.send = function (m) {\n",
       "        //console.log('sending', m);\n",
       "        comm.send(m);\n",
       "    };\n",
       "    // Register the callback with on_msg.\n",
       "    comm.on_msg(function (msg) {\n",
       "        //console.log('receiving', msg['content']['data'], msg);\n",
       "        // Pass the mpl event to the overridden (by mpl) onmessage function.\n",
       "        ws.onmessage(msg['content']['data']);\n",
       "    });\n",
       "    return ws;\n",
       "};\n",
       "\n",
       "mpl.mpl_figure_comm = function (comm, msg) {\n",
       "    // This is the function which gets called when the mpl process\n",
       "    // starts-up an IPython Comm through the \"matplotlib\" channel.\n",
       "\n",
       "    var id = msg.content.data.id;\n",
       "    // Get hold of the div created by the display call when the Comm\n",
       "    // socket was opened in Python.\n",
       "    var element = document.getElementById(id);\n",
       "    var ws_proxy = comm_websocket_adapter(comm);\n",
       "\n",
       "    function ondownload(figure, _format) {\n",
       "        window.open(figure.canvas.toDataURL());\n",
       "    }\n",
       "\n",
       "    var fig = new mpl.figure(id, ws_proxy, ondownload, element);\n",
       "\n",
       "    // Call onopen now - mpl needs it, as it is assuming we've passed it a real\n",
       "    // web socket which is closed, not our websocket->open comm proxy.\n",
       "    ws_proxy.onopen();\n",
       "\n",
       "    fig.parent_element = element;\n",
       "    fig.cell_info = mpl.find_output_cell(\"<div id='\" + id + \"'></div>\");\n",
       "    if (!fig.cell_info) {\n",
       "        console.error('Failed to find cell for figure', id, fig);\n",
       "        return;\n",
       "    }\n",
       "};\n",
       "\n",
       "mpl.figure.prototype.handle_close = function (fig, msg) {\n",
       "    var width = fig.canvas.width / mpl.ratio;\n",
       "    fig.root.removeEventListener('remove', this._remove_fig_handler);\n",
       "\n",
       "    // Update the output cell to use the data from the current canvas.\n",
       "    fig.push_to_output();\n",
       "    var dataURL = fig.canvas.toDataURL();\n",
       "    // Re-enable the keyboard manager in IPython - without this line, in FF,\n",
       "    // the notebook keyboard shortcuts fail.\n",
       "    IPython.keyboard_manager.enable();\n",
       "    fig.parent_element.innerHTML =\n",
       "        '<img src=\"' + dataURL + '\" width=\"' + width + '\">';\n",
       "    fig.close_ws(fig, msg);\n",
       "};\n",
       "\n",
       "mpl.figure.prototype.close_ws = function (fig, msg) {\n",
       "    fig.send_message('closing', msg);\n",
       "    // fig.ws.close()\n",
       "};\n",
       "\n",
       "mpl.figure.prototype.push_to_output = function (_remove_interactive) {\n",
       "    // Turn the data on the canvas into data in the output cell.\n",
       "    var width = this.canvas.width / mpl.ratio;\n",
       "    var dataURL = this.canvas.toDataURL();\n",
       "    this.cell_info[1]['text/html'] =\n",
       "        '<img src=\"' + dataURL + '\" width=\"' + width + '\">';\n",
       "};\n",
       "\n",
       "mpl.figure.prototype.updated_canvas_event = function () {\n",
       "    // Tell IPython that the notebook contents must change.\n",
       "    IPython.notebook.set_dirty(true);\n",
       "    this.send_message('ack', {});\n",
       "    var fig = this;\n",
       "    // Wait a second, then push the new image to the DOM so\n",
       "    // that it is saved nicely (might be nice to debounce this).\n",
       "    setTimeout(function () {\n",
       "        fig.push_to_output();\n",
       "    }, 1000);\n",
       "};\n",
       "\n",
       "mpl.figure.prototype._init_toolbar = function () {\n",
       "    var fig = this;\n",
       "\n",
       "    var toolbar = document.createElement('div');\n",
       "    toolbar.classList = 'btn-toolbar';\n",
       "    this.root.appendChild(toolbar);\n",
       "\n",
       "    function on_click_closure(name) {\n",
       "        return function (_event) {\n",
       "            return fig.toolbar_button_onclick(name);\n",
       "        };\n",
       "    }\n",
       "\n",
       "    function on_mouseover_closure(tooltip) {\n",
       "        return function (event) {\n",
       "            if (!event.currentTarget.disabled) {\n",
       "                return fig.toolbar_button_onmouseover(tooltip);\n",
       "            }\n",
       "        };\n",
       "    }\n",
       "\n",
       "    fig.buttons = {};\n",
       "    var buttonGroup = document.createElement('div');\n",
       "    buttonGroup.classList = 'btn-group';\n",
       "    var button;\n",
       "    for (var toolbar_ind in mpl.toolbar_items) {\n",
       "        var name = mpl.toolbar_items[toolbar_ind][0];\n",
       "        var tooltip = mpl.toolbar_items[toolbar_ind][1];\n",
       "        var image = mpl.toolbar_items[toolbar_ind][2];\n",
       "        var method_name = mpl.toolbar_items[toolbar_ind][3];\n",
       "\n",
       "        if (!name) {\n",
       "            /* Instead of a spacer, we start a new button group. */\n",
       "            if (buttonGroup.hasChildNodes()) {\n",
       "                toolbar.appendChild(buttonGroup);\n",
       "            }\n",
       "            buttonGroup = document.createElement('div');\n",
       "            buttonGroup.classList = 'btn-group';\n",
       "            continue;\n",
       "        }\n",
       "\n",
       "        button = fig.buttons[name] = document.createElement('button');\n",
       "        button.classList = 'btn btn-default';\n",
       "        button.href = '#';\n",
       "        button.title = name;\n",
       "        button.innerHTML = '<i class=\"fa ' + image + ' fa-lg\"></i>';\n",
       "        button.addEventListener('click', on_click_closure(method_name));\n",
       "        button.addEventListener('mouseover', on_mouseover_closure(tooltip));\n",
       "        buttonGroup.appendChild(button);\n",
       "    }\n",
       "\n",
       "    if (buttonGroup.hasChildNodes()) {\n",
       "        toolbar.appendChild(buttonGroup);\n",
       "    }\n",
       "\n",
       "    // Add the status bar.\n",
       "    var status_bar = document.createElement('span');\n",
       "    status_bar.classList = 'mpl-message pull-right';\n",
       "    toolbar.appendChild(status_bar);\n",
       "    this.message = status_bar;\n",
       "\n",
       "    // Add the close button to the window.\n",
       "    var buttongrp = document.createElement('div');\n",
       "    buttongrp.classList = 'btn-group inline pull-right';\n",
       "    button = document.createElement('button');\n",
       "    button.classList = 'btn btn-mini btn-primary';\n",
       "    button.href = '#';\n",
       "    button.title = 'Stop Interaction';\n",
       "    button.innerHTML = '<i class=\"fa fa-power-off icon-remove icon-large\"></i>';\n",
       "    button.addEventListener('click', function (_evt) {\n",
       "        fig.handle_close(fig, {});\n",
       "    });\n",
       "    button.addEventListener(\n",
       "        'mouseover',\n",
       "        on_mouseover_closure('Stop Interaction')\n",
       "    );\n",
       "    buttongrp.appendChild(button);\n",
       "    var titlebar = this.root.querySelector('.ui-dialog-titlebar');\n",
       "    titlebar.insertBefore(buttongrp, titlebar.firstChild);\n",
       "};\n",
       "\n",
       "mpl.figure.prototype._remove_fig_handler = function () {\n",
       "    this.close_ws(this, {});\n",
       "};\n",
       "\n",
       "mpl.figure.prototype._root_extra_style = function (el) {\n",
       "    el.style.boxSizing = 'content-box'; // override notebook setting of border-box.\n",
       "    el.addEventListener('remove', this._remove_fig_handler);\n",
       "};\n",
       "\n",
       "mpl.figure.prototype._canvas_extra_style = function (el) {\n",
       "    // this is important to make the div 'focusable\n",
       "    el.setAttribute('tabindex', 0);\n",
       "    // reach out to IPython and tell the keyboard manager to turn it's self\n",
       "    // off when our div gets focus\n",
       "\n",
       "    // location in version 3\n",
       "    if (IPython.notebook.keyboard_manager) {\n",
       "        IPython.notebook.keyboard_manager.register_events(el);\n",
       "    } else {\n",
       "        // location in version 2\n",
       "        IPython.keyboard_manager.register_events(el);\n",
       "    }\n",
       "};\n",
       "\n",
       "mpl.figure.prototype._key_event_extra = function (event, _name) {\n",
       "    var manager = IPython.notebook.keyboard_manager;\n",
       "    if (!manager) {\n",
       "        manager = IPython.keyboard_manager;\n",
       "    }\n",
       "\n",
       "    // Check for shift+enter\n",
       "    if (event.shiftKey && event.which === 13) {\n",
       "        this.canvas_div.blur();\n",
       "        // select the cell after this one\n",
       "        var index = IPython.notebook.find_cell_index(this.cell_info[0]);\n",
       "        IPython.notebook.select(index + 1);\n",
       "    }\n",
       "};\n",
       "\n",
       "mpl.figure.prototype.handle_save = function (fig, _msg) {\n",
       "    fig.ondownload(fig, null);\n",
       "};\n",
       "\n",
       "mpl.find_output_cell = function (html_output) {\n",
       "    // Return the cell and output element which can be found *uniquely* in the notebook.\n",
       "    // Note - this is a bit hacky, but it is done because the \"notebook_saving.Notebook\"\n",
       "    // IPython event is triggered only after the cells have been serialised, which for\n",
       "    // our purposes (turning an active figure into a static one), is too late.\n",
       "    var cells = IPython.notebook.get_cells();\n",
       "    var ncells = cells.length;\n",
       "    for (var i = 0; i < ncells; i++) {\n",
       "        var cell = cells[i];\n",
       "        if (cell.cell_type === 'code') {\n",
       "            for (var j = 0; j < cell.output_area.outputs.length; j++) {\n",
       "                var data = cell.output_area.outputs[j];\n",
       "                if (data.data) {\n",
       "                    // IPython >= 3 moved mimebundle to data attribute of output\n",
       "                    data = data.data;\n",
       "                }\n",
       "                if (data['text/html'] === html_output) {\n",
       "                    return [cell, data, j];\n",
       "                }\n",
       "            }\n",
       "        }\n",
       "    }\n",
       "};\n",
       "\n",
       "// Register the function which deals with the matplotlib target/channel.\n",
       "// The kernel may be null if the page has been refreshed.\n",
       "if (IPython.notebook.kernel !== null) {\n",
       "    IPython.notebook.kernel.comm_manager.register_target(\n",
       "        'matplotlib',\n",
       "        mpl.mpl_figure_comm\n",
       "    );\n",
       "}\n"
      ],
      "text/plain": [
       "<IPython.core.display.Javascript object>"
      ]
     },
     "metadata": {},
     "output_type": "display_data"
    },
    {
     "data": {
      "text/html": [
       "<img src=\"data:image/png;base64,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\" width=\"640\">"
      ],
      "text/plain": [
       "<IPython.core.display.HTML object>"
      ]
     },
     "metadata": {},
     "output_type": "display_data"
    }
   ],
   "source": [
    "fig, axes = plt.subplots(4, 4)\n",
    "# use global min / max to ensure all weights are shown on the same scale\n",
    "vmin, vmax = mlp.coefs_[0].min(), mlp.coefs_[0].max()\n",
    "for coef, ax in zip(mlp.coefs_[0].T, axes.ravel()):\n",
    "    ax.matshow(coef.reshape(28, 28), cmap=plt.cm.gray, vmin=.5 * vmin,\n",
    "               vmax=.5 * vmax)\n",
    "    ax.set_xticks(())\n",
    "    ax.set_yticks(())\n",
    "\n",
    "plt.show()"
   ]
  }
 ],
 "metadata": {
  "kernelspec": {
   "display_name": "Python 3",
   "language": "python",
   "name": "python3"
  },
  "language_info": {
   "codemirror_mode": {
    "name": "ipython",
    "version": 3
   },
   "file_extension": ".py",
   "mimetype": "text/x-python",
   "name": "python",
   "nbconvert_exporter": "python",
   "pygments_lexer": "ipython3",
   "version": "3.8.5"
  }
 },
 "nbformat": 4,
 "nbformat_minor": 4
}
